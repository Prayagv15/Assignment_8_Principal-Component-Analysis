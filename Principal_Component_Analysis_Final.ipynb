{
  "cells": [
    {
      "cell_type": "code",
      "execution_count": 1,
      "metadata": {
        "id": "xxYa-Ig9bDmd"
      },
      "outputs": [],
      "source": [
        "# Importing Libraries\n",
        "\n",
        "import pandas as pd\n",
        "import numpy as np\n",
        "import seaborn as sns \n",
        "import matplotlib.pyplot as plt\n",
        "\n",
        "# Importing MinMaxScaler\n",
        "\n",
        "from sklearn.preprocessing  import MinMaxScaler"
      ]
    },
    {
      "cell_type": "code",
      "execution_count": 2,
      "metadata": {
        "id": "BqjwqtL3bgwK"
      },
      "outputs": [],
      "source": [
        "wine=pd.read_csv(\"https://raw.githubusercontent.com/Prayagv15/Principal-Component-Analysis-Dimensionality-Reduction-/main/wine.csv\")"
      ]
    },
    {
      "cell_type": "code",
      "execution_count": 3,
      "metadata": {
        "colab": {
          "base_uri": "https://localhost:8080/",
          "height": 206
        },
        "id": "3T1Z_DwdbmmD",
        "outputId": "4836fdbc-d4bf-42c5-efb2-c66d1ba1ed00"
      },
      "outputs": [
        {
          "data": {
            "text/html": [
              "<div>\n",
              "<style scoped>\n",
              "    .dataframe tbody tr th:only-of-type {\n",
              "        vertical-align: middle;\n",
              "    }\n",
              "\n",
              "    .dataframe tbody tr th {\n",
              "        vertical-align: top;\n",
              "    }\n",
              "\n",
              "    .dataframe thead th {\n",
              "        text-align: right;\n",
              "    }\n",
              "</style>\n",
              "<table border=\"1\" class=\"dataframe\">\n",
              "  <thead>\n",
              "    <tr style=\"text-align: right;\">\n",
              "      <th></th>\n",
              "      <th>Type</th>\n",
              "      <th>Alcohol</th>\n",
              "      <th>Malic</th>\n",
              "      <th>Ash</th>\n",
              "      <th>Alcalinity</th>\n",
              "      <th>Magnesium</th>\n",
              "      <th>Phenols</th>\n",
              "      <th>Flavanoids</th>\n",
              "      <th>Nonflavanoids</th>\n",
              "      <th>Proanthocyanins</th>\n",
              "      <th>Color</th>\n",
              "      <th>Hue</th>\n",
              "      <th>Dilution</th>\n",
              "      <th>Proline</th>\n",
              "    </tr>\n",
              "  </thead>\n",
              "  <tbody>\n",
              "    <tr>\n",
              "      <th>0</th>\n",
              "      <td>1</td>\n",
              "      <td>14.23</td>\n",
              "      <td>1.71</td>\n",
              "      <td>2.43</td>\n",
              "      <td>15.6</td>\n",
              "      <td>127</td>\n",
              "      <td>2.80</td>\n",
              "      <td>3.06</td>\n",
              "      <td>0.28</td>\n",
              "      <td>2.29</td>\n",
              "      <td>5.64</td>\n",
              "      <td>1.04</td>\n",
              "      <td>3.92</td>\n",
              "      <td>1065</td>\n",
              "    </tr>\n",
              "    <tr>\n",
              "      <th>1</th>\n",
              "      <td>1</td>\n",
              "      <td>13.20</td>\n",
              "      <td>1.78</td>\n",
              "      <td>2.14</td>\n",
              "      <td>11.2</td>\n",
              "      <td>100</td>\n",
              "      <td>2.65</td>\n",
              "      <td>2.76</td>\n",
              "      <td>0.26</td>\n",
              "      <td>1.28</td>\n",
              "      <td>4.38</td>\n",
              "      <td>1.05</td>\n",
              "      <td>3.40</td>\n",
              "      <td>1050</td>\n",
              "    </tr>\n",
              "    <tr>\n",
              "      <th>2</th>\n",
              "      <td>1</td>\n",
              "      <td>13.16</td>\n",
              "      <td>2.36</td>\n",
              "      <td>2.67</td>\n",
              "      <td>18.6</td>\n",
              "      <td>101</td>\n",
              "      <td>2.80</td>\n",
              "      <td>3.24</td>\n",
              "      <td>0.30</td>\n",
              "      <td>2.81</td>\n",
              "      <td>5.68</td>\n",
              "      <td>1.03</td>\n",
              "      <td>3.17</td>\n",
              "      <td>1185</td>\n",
              "    </tr>\n",
              "    <tr>\n",
              "      <th>3</th>\n",
              "      <td>1</td>\n",
              "      <td>14.37</td>\n",
              "      <td>1.95</td>\n",
              "      <td>2.50</td>\n",
              "      <td>16.8</td>\n",
              "      <td>113</td>\n",
              "      <td>3.85</td>\n",
              "      <td>3.49</td>\n",
              "      <td>0.24</td>\n",
              "      <td>2.18</td>\n",
              "      <td>7.80</td>\n",
              "      <td>0.86</td>\n",
              "      <td>3.45</td>\n",
              "      <td>1480</td>\n",
              "    </tr>\n",
              "    <tr>\n",
              "      <th>4</th>\n",
              "      <td>1</td>\n",
              "      <td>13.24</td>\n",
              "      <td>2.59</td>\n",
              "      <td>2.87</td>\n",
              "      <td>21.0</td>\n",
              "      <td>118</td>\n",
              "      <td>2.80</td>\n",
              "      <td>2.69</td>\n",
              "      <td>0.39</td>\n",
              "      <td>1.82</td>\n",
              "      <td>4.32</td>\n",
              "      <td>1.04</td>\n",
              "      <td>2.93</td>\n",
              "      <td>735</td>\n",
              "    </tr>\n",
              "  </tbody>\n",
              "</table>\n",
              "</div>"
            ],
            "text/plain": [
              "   Type  Alcohol  Malic   Ash  Alcalinity  Magnesium  Phenols  Flavanoids  \\\n",
              "0     1    14.23   1.71  2.43        15.6        127     2.80        3.06   \n",
              "1     1    13.20   1.78  2.14        11.2        100     2.65        2.76   \n",
              "2     1    13.16   2.36  2.67        18.6        101     2.80        3.24   \n",
              "3     1    14.37   1.95  2.50        16.8        113     3.85        3.49   \n",
              "4     1    13.24   2.59  2.87        21.0        118     2.80        2.69   \n",
              "\n",
              "   Nonflavanoids  Proanthocyanins  Color   Hue  Dilution  Proline  \n",
              "0           0.28             2.29   5.64  1.04      3.92     1065  \n",
              "1           0.26             1.28   4.38  1.05      3.40     1050  \n",
              "2           0.30             2.81   5.68  1.03      3.17     1185  \n",
              "3           0.24             2.18   7.80  0.86      3.45     1480  \n",
              "4           0.39             1.82   4.32  1.04      2.93      735  "
            ]
          },
          "execution_count": 3,
          "metadata": {},
          "output_type": "execute_result"
        }
      ],
      "source": [
        "wine.head()"
      ]
    },
    {
      "cell_type": "code",
      "execution_count": 4,
      "metadata": {
        "colab": {
          "base_uri": "https://localhost:8080/",
          "height": 81
        },
        "id": "EcqSw8MJbobe",
        "outputId": "6a3905a6-af2c-4797-cb6c-38f2d50e5883"
      },
      "outputs": [
        {
          "data": {
            "text/html": [
              "<div>\n",
              "<style scoped>\n",
              "    .dataframe tbody tr th:only-of-type {\n",
              "        vertical-align: middle;\n",
              "    }\n",
              "\n",
              "    .dataframe tbody tr th {\n",
              "        vertical-align: top;\n",
              "    }\n",
              "\n",
              "    .dataframe thead th {\n",
              "        text-align: right;\n",
              "    }\n",
              "</style>\n",
              "<table border=\"1\" class=\"dataframe\">\n",
              "  <thead>\n",
              "    <tr style=\"text-align: right;\">\n",
              "      <th></th>\n",
              "      <th>Type</th>\n",
              "      <th>Alcohol</th>\n",
              "      <th>Malic</th>\n",
              "      <th>Ash</th>\n",
              "      <th>Alcalinity</th>\n",
              "      <th>Magnesium</th>\n",
              "      <th>Phenols</th>\n",
              "      <th>Flavanoids</th>\n",
              "      <th>Nonflavanoids</th>\n",
              "      <th>Proanthocyanins</th>\n",
              "      <th>Color</th>\n",
              "      <th>Hue</th>\n",
              "      <th>Dilution</th>\n",
              "      <th>Proline</th>\n",
              "    </tr>\n",
              "  </thead>\n",
              "  <tbody>\n",
              "    <tr>\n",
              "      <th>20</th>\n",
              "      <td>1</td>\n",
              "      <td>14.06</td>\n",
              "      <td>1.63</td>\n",
              "      <td>2.28</td>\n",
              "      <td>16.0</td>\n",
              "      <td>126</td>\n",
              "      <td>3.0</td>\n",
              "      <td>3.17</td>\n",
              "      <td>0.24</td>\n",
              "      <td>2.1</td>\n",
              "      <td>5.65</td>\n",
              "      <td>1.09</td>\n",
              "      <td>3.71</td>\n",
              "      <td>780</td>\n",
              "    </tr>\n",
              "  </tbody>\n",
              "</table>\n",
              "</div>"
            ],
            "text/plain": [
              "    Type  Alcohol  Malic   Ash  Alcalinity  Magnesium  Phenols  Flavanoids  \\\n",
              "20     1    14.06   1.63  2.28        16.0        126      3.0        3.17   \n",
              "\n",
              "    Nonflavanoids  Proanthocyanins  Color   Hue  Dilution  Proline  \n",
              "20           0.24              2.1   5.65  1.09      3.71      780  "
            ]
          },
          "execution_count": 4,
          "metadata": {},
          "output_type": "execute_result"
        }
      ],
      "source": [
        "wine.sample()"
      ]
    },
    {
      "cell_type": "code",
      "execution_count": 5,
      "metadata": {
        "colab": {
          "base_uri": "https://localhost:8080/"
        },
        "id": "YIkUBKdyV-ob",
        "outputId": "2b583050-1350-469b-9f70-ae125414e39f"
      },
      "outputs": [
        {
          "name": "stdout",
          "output_type": "stream",
          "text": [
            "Counter({2: 71, 1: 59, 3: 48})\n"
          ]
        }
      ],
      "source": [
        "# Knowing how many different types of wines are there from using Counter Class from the collections module.\n",
        "\n",
        "from collections import Counter \n",
        "print(Counter(wine['Type']))"
      ]
    },
    {
      "cell_type": "code",
      "execution_count": 6,
      "metadata": {
        "colab": {
          "base_uri": "https://localhost:8080/"
        },
        "id": "C6yFyXT5bp5O",
        "outputId": "1fc41bcf-29f5-4d62-eec5-6592475e667a"
      },
      "outputs": [
        {
          "name": "stdout",
          "output_type": "stream",
          "text": [
            "<class 'pandas.core.frame.DataFrame'>\n",
            "RangeIndex: 178 entries, 0 to 177\n",
            "Data columns (total 14 columns):\n",
            " #   Column           Non-Null Count  Dtype  \n",
            "---  ------           --------------  -----  \n",
            " 0   Type             178 non-null    int64  \n",
            " 1   Alcohol          178 non-null    float64\n",
            " 2   Malic            178 non-null    float64\n",
            " 3   Ash              178 non-null    float64\n",
            " 4   Alcalinity       178 non-null    float64\n",
            " 5   Magnesium        178 non-null    int64  \n",
            " 6   Phenols          178 non-null    float64\n",
            " 7   Flavanoids       178 non-null    float64\n",
            " 8   Nonflavanoids    178 non-null    float64\n",
            " 9   Proanthocyanins  178 non-null    float64\n",
            " 10  Color            178 non-null    float64\n",
            " 11  Hue              178 non-null    float64\n",
            " 12  Dilution         178 non-null    float64\n",
            " 13  Proline          178 non-null    int64  \n",
            "dtypes: float64(11), int64(3)\n",
            "memory usage: 19.6 KB\n"
          ]
        }
      ],
      "source": [
        "wine.info()"
      ]
    },
    {
      "cell_type": "code",
      "execution_count": 7,
      "metadata": {
        "colab": {
          "base_uri": "https://localhost:8080/",
          "height": 364
        },
        "id": "G3VwZbiFbr7K",
        "outputId": "8b5edfb1-b141-4140-c639-1d7794b355fd"
      },
      "outputs": [
        {
          "data": {
            "text/html": [
              "<div>\n",
              "<style scoped>\n",
              "    .dataframe tbody tr th:only-of-type {\n",
              "        vertical-align: middle;\n",
              "    }\n",
              "\n",
              "    .dataframe tbody tr th {\n",
              "        vertical-align: top;\n",
              "    }\n",
              "\n",
              "    .dataframe thead th {\n",
              "        text-align: right;\n",
              "    }\n",
              "</style>\n",
              "<table border=\"1\" class=\"dataframe\">\n",
              "  <thead>\n",
              "    <tr style=\"text-align: right;\">\n",
              "      <th></th>\n",
              "      <th>Type</th>\n",
              "      <th>Alcohol</th>\n",
              "      <th>Malic</th>\n",
              "      <th>Ash</th>\n",
              "      <th>Alcalinity</th>\n",
              "      <th>Magnesium</th>\n",
              "      <th>Phenols</th>\n",
              "      <th>Flavanoids</th>\n",
              "      <th>Nonflavanoids</th>\n",
              "      <th>Proanthocyanins</th>\n",
              "      <th>Color</th>\n",
              "      <th>Hue</th>\n",
              "      <th>Dilution</th>\n",
              "      <th>Proline</th>\n",
              "    </tr>\n",
              "  </thead>\n",
              "  <tbody>\n",
              "    <tr>\n",
              "      <th>count</th>\n",
              "      <td>178.000000</td>\n",
              "      <td>178.000000</td>\n",
              "      <td>178.000000</td>\n",
              "      <td>178.000000</td>\n",
              "      <td>178.000000</td>\n",
              "      <td>178.000000</td>\n",
              "      <td>178.000000</td>\n",
              "      <td>178.000000</td>\n",
              "      <td>178.000000</td>\n",
              "      <td>178.000000</td>\n",
              "      <td>178.000000</td>\n",
              "      <td>178.000000</td>\n",
              "      <td>178.000000</td>\n",
              "      <td>178.000000</td>\n",
              "    </tr>\n",
              "    <tr>\n",
              "      <th>mean</th>\n",
              "      <td>1.938202</td>\n",
              "      <td>13.000618</td>\n",
              "      <td>2.336348</td>\n",
              "      <td>2.366517</td>\n",
              "      <td>19.494944</td>\n",
              "      <td>99.741573</td>\n",
              "      <td>2.295112</td>\n",
              "      <td>2.029270</td>\n",
              "      <td>0.361854</td>\n",
              "      <td>1.590899</td>\n",
              "      <td>5.058090</td>\n",
              "      <td>0.957449</td>\n",
              "      <td>2.611685</td>\n",
              "      <td>746.893258</td>\n",
              "    </tr>\n",
              "    <tr>\n",
              "      <th>std</th>\n",
              "      <td>0.775035</td>\n",
              "      <td>0.811827</td>\n",
              "      <td>1.117146</td>\n",
              "      <td>0.274344</td>\n",
              "      <td>3.339564</td>\n",
              "      <td>14.282484</td>\n",
              "      <td>0.625851</td>\n",
              "      <td>0.998859</td>\n",
              "      <td>0.124453</td>\n",
              "      <td>0.572359</td>\n",
              "      <td>2.318286</td>\n",
              "      <td>0.228572</td>\n",
              "      <td>0.709990</td>\n",
              "      <td>314.907474</td>\n",
              "    </tr>\n",
              "    <tr>\n",
              "      <th>min</th>\n",
              "      <td>1.000000</td>\n",
              "      <td>11.030000</td>\n",
              "      <td>0.740000</td>\n",
              "      <td>1.360000</td>\n",
              "      <td>10.600000</td>\n",
              "      <td>70.000000</td>\n",
              "      <td>0.980000</td>\n",
              "      <td>0.340000</td>\n",
              "      <td>0.130000</td>\n",
              "      <td>0.410000</td>\n",
              "      <td>1.280000</td>\n",
              "      <td>0.480000</td>\n",
              "      <td>1.270000</td>\n",
              "      <td>278.000000</td>\n",
              "    </tr>\n",
              "    <tr>\n",
              "      <th>25%</th>\n",
              "      <td>1.000000</td>\n",
              "      <td>12.362500</td>\n",
              "      <td>1.602500</td>\n",
              "      <td>2.210000</td>\n",
              "      <td>17.200000</td>\n",
              "      <td>88.000000</td>\n",
              "      <td>1.742500</td>\n",
              "      <td>1.205000</td>\n",
              "      <td>0.270000</td>\n",
              "      <td>1.250000</td>\n",
              "      <td>3.220000</td>\n",
              "      <td>0.782500</td>\n",
              "      <td>1.937500</td>\n",
              "      <td>500.500000</td>\n",
              "    </tr>\n",
              "    <tr>\n",
              "      <th>50%</th>\n",
              "      <td>2.000000</td>\n",
              "      <td>13.050000</td>\n",
              "      <td>1.865000</td>\n",
              "      <td>2.360000</td>\n",
              "      <td>19.500000</td>\n",
              "      <td>98.000000</td>\n",
              "      <td>2.355000</td>\n",
              "      <td>2.135000</td>\n",
              "      <td>0.340000</td>\n",
              "      <td>1.555000</td>\n",
              "      <td>4.690000</td>\n",
              "      <td>0.965000</td>\n",
              "      <td>2.780000</td>\n",
              "      <td>673.500000</td>\n",
              "    </tr>\n",
              "    <tr>\n",
              "      <th>75%</th>\n",
              "      <td>3.000000</td>\n",
              "      <td>13.677500</td>\n",
              "      <td>3.082500</td>\n",
              "      <td>2.557500</td>\n",
              "      <td>21.500000</td>\n",
              "      <td>107.000000</td>\n",
              "      <td>2.800000</td>\n",
              "      <td>2.875000</td>\n",
              "      <td>0.437500</td>\n",
              "      <td>1.950000</td>\n",
              "      <td>6.200000</td>\n",
              "      <td>1.120000</td>\n",
              "      <td>3.170000</td>\n",
              "      <td>985.000000</td>\n",
              "    </tr>\n",
              "    <tr>\n",
              "      <th>max</th>\n",
              "      <td>3.000000</td>\n",
              "      <td>14.830000</td>\n",
              "      <td>5.800000</td>\n",
              "      <td>3.230000</td>\n",
              "      <td>30.000000</td>\n",
              "      <td>162.000000</td>\n",
              "      <td>3.880000</td>\n",
              "      <td>5.080000</td>\n",
              "      <td>0.660000</td>\n",
              "      <td>3.580000</td>\n",
              "      <td>13.000000</td>\n",
              "      <td>1.710000</td>\n",
              "      <td>4.000000</td>\n",
              "      <td>1680.000000</td>\n",
              "    </tr>\n",
              "  </tbody>\n",
              "</table>\n",
              "</div>"
            ],
            "text/plain": [
              "             Type     Alcohol       Malic         Ash  Alcalinity   Magnesium  \\\n",
              "count  178.000000  178.000000  178.000000  178.000000  178.000000  178.000000   \n",
              "mean     1.938202   13.000618    2.336348    2.366517   19.494944   99.741573   \n",
              "std      0.775035    0.811827    1.117146    0.274344    3.339564   14.282484   \n",
              "min      1.000000   11.030000    0.740000    1.360000   10.600000   70.000000   \n",
              "25%      1.000000   12.362500    1.602500    2.210000   17.200000   88.000000   \n",
              "50%      2.000000   13.050000    1.865000    2.360000   19.500000   98.000000   \n",
              "75%      3.000000   13.677500    3.082500    2.557500   21.500000  107.000000   \n",
              "max      3.000000   14.830000    5.800000    3.230000   30.000000  162.000000   \n",
              "\n",
              "          Phenols  Flavanoids  Nonflavanoids  Proanthocyanins       Color  \\\n",
              "count  178.000000  178.000000     178.000000       178.000000  178.000000   \n",
              "mean     2.295112    2.029270       0.361854         1.590899    5.058090   \n",
              "std      0.625851    0.998859       0.124453         0.572359    2.318286   \n",
              "min      0.980000    0.340000       0.130000         0.410000    1.280000   \n",
              "25%      1.742500    1.205000       0.270000         1.250000    3.220000   \n",
              "50%      2.355000    2.135000       0.340000         1.555000    4.690000   \n",
              "75%      2.800000    2.875000       0.437500         1.950000    6.200000   \n",
              "max      3.880000    5.080000       0.660000         3.580000   13.000000   \n",
              "\n",
              "              Hue    Dilution      Proline  \n",
              "count  178.000000  178.000000   178.000000  \n",
              "mean     0.957449    2.611685   746.893258  \n",
              "std      0.228572    0.709990   314.907474  \n",
              "min      0.480000    1.270000   278.000000  \n",
              "25%      0.782500    1.937500   500.500000  \n",
              "50%      0.965000    2.780000   673.500000  \n",
              "75%      1.120000    3.170000   985.000000  \n",
              "max      1.710000    4.000000  1680.000000  "
            ]
          },
          "execution_count": 7,
          "metadata": {},
          "output_type": "execute_result"
        }
      ],
      "source": [
        "wine.describe()"
      ]
    },
    {
      "cell_type": "code",
      "execution_count": 8,
      "metadata": {
        "colab": {
          "base_uri": "https://localhost:8080/"
        },
        "id": "hqyxi1CAbuE2",
        "outputId": "8ff7abf4-bdce-44df-ac49-51eecc30782d"
      },
      "outputs": [
        {
          "data": {
            "text/plain": [
              "(178, 14)"
            ]
          },
          "execution_count": 8,
          "metadata": {},
          "output_type": "execute_result"
        }
      ],
      "source": [
        "# Shape of the DataFrame\n",
        "\n",
        "wine.shape"
      ]
    },
    {
      "cell_type": "code",
      "execution_count": 9,
      "metadata": {
        "id": "yZdBJsfrbyOm"
      },
      "outputs": [],
      "source": [
        "# Choosing Numerical and Label Columns\n",
        "\n",
        "y=wine.iloc[:,0]\n",
        "x=wine.iloc[:,1:]"
      ]
    },
    {
      "cell_type": "code",
      "execution_count": 10,
      "metadata": {
        "colab": {
          "base_uri": "https://localhost:8080/",
          "height": 206
        },
        "id": "0NwyhcT9cB-V",
        "outputId": "73aa7e09-b32c-4ba8-d3a7-8aaed346b95d"
      },
      "outputs": [
        {
          "data": {
            "text/html": [
              "<div>\n",
              "<style scoped>\n",
              "    .dataframe tbody tr th:only-of-type {\n",
              "        vertical-align: middle;\n",
              "    }\n",
              "\n",
              "    .dataframe tbody tr th {\n",
              "        vertical-align: top;\n",
              "    }\n",
              "\n",
              "    .dataframe thead th {\n",
              "        text-align: right;\n",
              "    }\n",
              "</style>\n",
              "<table border=\"1\" class=\"dataframe\">\n",
              "  <thead>\n",
              "    <tr style=\"text-align: right;\">\n",
              "      <th></th>\n",
              "      <th>Alcohol</th>\n",
              "      <th>Malic</th>\n",
              "      <th>Ash</th>\n",
              "      <th>Alcalinity</th>\n",
              "      <th>Magnesium</th>\n",
              "      <th>Phenols</th>\n",
              "      <th>Flavanoids</th>\n",
              "      <th>Nonflavanoids</th>\n",
              "      <th>Proanthocyanins</th>\n",
              "      <th>Color</th>\n",
              "      <th>Hue</th>\n",
              "      <th>Dilution</th>\n",
              "      <th>Proline</th>\n",
              "    </tr>\n",
              "  </thead>\n",
              "  <tbody>\n",
              "    <tr>\n",
              "      <th>0</th>\n",
              "      <td>14.23</td>\n",
              "      <td>1.71</td>\n",
              "      <td>2.43</td>\n",
              "      <td>15.6</td>\n",
              "      <td>127</td>\n",
              "      <td>2.80</td>\n",
              "      <td>3.06</td>\n",
              "      <td>0.28</td>\n",
              "      <td>2.29</td>\n",
              "      <td>5.64</td>\n",
              "      <td>1.04</td>\n",
              "      <td>3.92</td>\n",
              "      <td>1065</td>\n",
              "    </tr>\n",
              "    <tr>\n",
              "      <th>1</th>\n",
              "      <td>13.20</td>\n",
              "      <td>1.78</td>\n",
              "      <td>2.14</td>\n",
              "      <td>11.2</td>\n",
              "      <td>100</td>\n",
              "      <td>2.65</td>\n",
              "      <td>2.76</td>\n",
              "      <td>0.26</td>\n",
              "      <td>1.28</td>\n",
              "      <td>4.38</td>\n",
              "      <td>1.05</td>\n",
              "      <td>3.40</td>\n",
              "      <td>1050</td>\n",
              "    </tr>\n",
              "    <tr>\n",
              "      <th>2</th>\n",
              "      <td>13.16</td>\n",
              "      <td>2.36</td>\n",
              "      <td>2.67</td>\n",
              "      <td>18.6</td>\n",
              "      <td>101</td>\n",
              "      <td>2.80</td>\n",
              "      <td>3.24</td>\n",
              "      <td>0.30</td>\n",
              "      <td>2.81</td>\n",
              "      <td>5.68</td>\n",
              "      <td>1.03</td>\n",
              "      <td>3.17</td>\n",
              "      <td>1185</td>\n",
              "    </tr>\n",
              "    <tr>\n",
              "      <th>3</th>\n",
              "      <td>14.37</td>\n",
              "      <td>1.95</td>\n",
              "      <td>2.50</td>\n",
              "      <td>16.8</td>\n",
              "      <td>113</td>\n",
              "      <td>3.85</td>\n",
              "      <td>3.49</td>\n",
              "      <td>0.24</td>\n",
              "      <td>2.18</td>\n",
              "      <td>7.80</td>\n",
              "      <td>0.86</td>\n",
              "      <td>3.45</td>\n",
              "      <td>1480</td>\n",
              "    </tr>\n",
              "    <tr>\n",
              "      <th>4</th>\n",
              "      <td>13.24</td>\n",
              "      <td>2.59</td>\n",
              "      <td>2.87</td>\n",
              "      <td>21.0</td>\n",
              "      <td>118</td>\n",
              "      <td>2.80</td>\n",
              "      <td>2.69</td>\n",
              "      <td>0.39</td>\n",
              "      <td>1.82</td>\n",
              "      <td>4.32</td>\n",
              "      <td>1.04</td>\n",
              "      <td>2.93</td>\n",
              "      <td>735</td>\n",
              "    </tr>\n",
              "  </tbody>\n",
              "</table>\n",
              "</div>"
            ],
            "text/plain": [
              "   Alcohol  Malic   Ash  Alcalinity  Magnesium  Phenols  Flavanoids  \\\n",
              "0    14.23   1.71  2.43        15.6        127     2.80        3.06   \n",
              "1    13.20   1.78  2.14        11.2        100     2.65        2.76   \n",
              "2    13.16   2.36  2.67        18.6        101     2.80        3.24   \n",
              "3    14.37   1.95  2.50        16.8        113     3.85        3.49   \n",
              "4    13.24   2.59  2.87        21.0        118     2.80        2.69   \n",
              "\n",
              "   Nonflavanoids  Proanthocyanins  Color   Hue  Dilution  Proline  \n",
              "0           0.28             2.29   5.64  1.04      3.92     1065  \n",
              "1           0.26             1.28   4.38  1.05      3.40     1050  \n",
              "2           0.30             2.81   5.68  1.03      3.17     1185  \n",
              "3           0.24             2.18   7.80  0.86      3.45     1480  \n",
              "4           0.39             1.82   4.32  1.04      2.93      735  "
            ]
          },
          "execution_count": 10,
          "metadata": {},
          "output_type": "execute_result"
        }
      ],
      "source": [
        "x.head()"
      ]
    },
    {
      "cell_type": "code",
      "execution_count": 11,
      "metadata": {
        "id": "g9o3aymVcDY1"
      },
      "outputs": [],
      "source": [
        "# Scaling Numerical values using MinMaxScaler\n",
        "\n",
        "scaler=MinMaxScaler()\n",
        "scaled_df=scaler.fit_transform(x)"
      ]
    },
    {
      "cell_type": "code",
      "execution_count": 12,
      "metadata": {
        "id": "RhgRIKGQcPcL"
      },
      "outputs": [],
      "source": [
        "X=scaled_df"
      ]
    },
    {
      "cell_type": "code",
      "execution_count": 13,
      "metadata": {
        "colab": {
          "base_uri": "https://localhost:8080/"
        },
        "id": "LidHkJskcUfC",
        "outputId": "04099225-42b9-41fa-faad-3c1e08cce349"
      },
      "outputs": [
        {
          "data": {
            "text/plain": [
              "array([[55.94790166, 29.9097306 , 50.85776808, 40.3039338 , 31.43080664,\n",
              "        44.21969147, 34.78431046, 38.99647468, 35.32014777, 33.8433312 ,\n",
              "        35.32701326, 46.07706767, 36.33945491],\n",
              "       [29.9097306 , 26.34399459, 31.16619814, 27.68844994, 17.82295068,\n",
              "        22.63945754, 16.62865863, 27.25449325, 19.36194062, 20.02725988,\n",
              "        17.72207012, 23.85127192, 17.09583007],\n",
              "       [50.85776808, 31.16619814, 55.3774486 , 45.90983516, 32.12776099,\n",
              "        44.17025632, 34.77416007, 43.04752295, 35.73577489, 32.21452424,\n",
              "        36.82931177, 47.11194688, 33.34675063],\n",
              "       [40.3039338 , 27.68844994, 45.90983516, 42.66497502, 25.98963469,\n",
              "        34.89911127, 26.82980991, 38.2920638 , 29.31732739, 26.42200746,\n",
              "        30.12873187, 37.91656282, 24.27992411],\n",
              "       [31.43080664, 17.82295068, 32.12776099, 25.98963469, 22.86838374,\n",
              "        27.36664168, 21.64137314, 23.5192781 , 22.60934714, 19.63666715,\n",
              "        22.61954754, 28.75199076, 21.67293618],\n",
              "       [44.21969147, 22.63945754, 44.17025632, 34.89911127, 27.36664168,\n",
              "        44.84942925, 35.72707697, 31.2763175 , 34.29410421, 25.60472813,\n",
              "        34.41183628, 46.62446634, 31.27047568],\n",
              "       [34.78431046, 16.62865863, 34.77416007, 26.82980991, 21.64137314,\n",
              "        35.72707697, 30.46799391, 23.03984555, 28.02723316, 19.17780922,\n",
              "        28.3912696 , 38.81267677, 25.35644077],\n",
              "       [38.99647468, 27.25449325, 43.04752295, 38.2920638 , 23.5192781 ,\n",
              "        31.2763175 , 23.03984555, 43.8237807 , 26.26218677, 26.24494489,\n",
              "        28.19748428, 32.82901375, 23.13566872],\n",
              "       [35.32014777, 19.36194062, 35.73577489, 29.31732739, 22.60934714,\n",
              "        34.29410421, 28.02723316, 26.26218677, 30.47191235, 21.21597258,\n",
              "        27.49442179, 36.90243931, 24.54863489],\n",
              "       [33.8433312 , 20.02725988, 32.21452424, 26.42200746, 19.63666715,\n",
              "        25.60472813, 19.17780922, 26.24494489, 21.21597258, 25.42285716,\n",
              "        18.87838313, 24.29567189, 21.67652743],\n",
              "       [35.32701326, 17.72207012, 36.82931177, 30.12873187, 22.61954754,\n",
              "        34.41183628, 28.3912696 , 28.19748428, 27.49442179, 18.87838313,\n",
              "        32.93269615, 38.79421662, 24.85323058],\n",
              "       [46.07706767, 23.85127192, 47.11194688, 37.91656282, 28.75199076,\n",
              "        46.62446634, 38.81267677, 32.82901375, 36.90243931, 24.29567189,\n",
              "        38.79421662, 54.96445679, 32.49106718],\n",
              "       [36.33945491, 17.09583007, 33.34675063, 24.27992411, 21.67293618,\n",
              "        31.27047568, 25.35644077, 23.13566872, 24.54863489, 21.67652743,\n",
              "        24.85323058, 32.49106718, 28.83986144]])"
            ]
          },
          "execution_count": 13,
          "metadata": {},
          "output_type": "execute_result"
        }
      ],
      "source": [
        "# Covariance Matrix\n",
        "\n",
        "square_matrix=np.matmul(X.T,X)\n",
        "square_matrix"
      ]
    },
    {
      "cell_type": "code",
      "execution_count": 14,
      "metadata": {
        "colab": {
          "base_uri": "https://localhost:8080/"
        },
        "id": "rBQFK7Jbc4Qq",
        "outputId": "cfeac947-f9cc-44cd-8840-00999623c3f6"
      },
      "outputs": [
        {
          "data": {
            "text/plain": [
              "array([414.14031684,  33.98475835,  15.58201667,   7.3385978 ,\n",
              "         5.32048043,   4.53532115,   3.52460626,   2.70663782,\n",
              "         2.18932587,   2.15358959,   1.47101377,   1.24972187,\n",
              "         0.77930495])"
            ]
          },
          "execution_count": 14,
          "metadata": {},
          "output_type": "execute_result"
        }
      ],
      "source": [
        "# Eigenvalues of the covariance matrix in decreasing oreder.\n",
        "\n",
        "np.linalg.eigh(square_matrix)[0][::-1]"
      ]
    },
    {
      "cell_type": "code",
      "execution_count": 15,
      "metadata": {
        "colab": {
          "base_uri": "https://localhost:8080/"
        },
        "id": "TKMPrGb4dEK9",
        "outputId": "1a1a6766-9328-4b09-ccc9-6435af89f96b"
      },
      "outputs": [
        {
          "data": {
            "text/plain": [
              "array([[ 3.49331221e-01,  5.93471128e-02, -4.70938085e-01,\n",
              "        -7.42911510e-02,  2.78723498e-01, -1.52380991e-01,\n",
              "         2.44007955e-01, -5.20759147e-01, -1.26135175e-01,\n",
              "         6.63264100e-02,  4.39219767e-01, -4.63268852e-02,\n",
              "         1.17293632e-02],\n",
              "       [ 2.01022373e-01,  3.79436647e-01, -2.49845569e-02,\n",
              "         6.52666403e-01,  4.13245420e-01, -2.03149100e-01,\n",
              "        -2.86914593e-01,  1.10157761e-01, -4.60936782e-02,\n",
              "        -2.39623133e-01, -1.44681204e-01,  3.28482651e-02,\n",
              "         3.11222296e-02],\n",
              "       [ 3.56012914e-01,  1.74857096e-01,  7.61651902e-02,\n",
              "        -1.81519904e-02, -2.89030725e-01, -1.90710900e-01,\n",
              "         2.45457172e-01,  3.26494712e-01,  1.72606510e-02,\n",
              "        -6.56655460e-02,  2.28218968e-01,  6.08411255e-01,\n",
              "        -3.50619018e-01],\n",
              "       [ 2.93223505e-01,  3.04819202e-01,  3.44672031e-01,\n",
              "         1.39242860e-01, -4.20076743e-01, -7.81159426e-02,\n",
              "         3.12696680e-01, -1.41484570e-01,  2.60293767e-01,\n",
              "        -1.49291485e-01,  5.62785041e-02, -4.92797292e-01,\n",
              "         2.15631506e-01],\n",
              "       [ 2.15892235e-01,  1.11294392e-02, -1.26983852e-01,\n",
              "         6.96187861e-03, -4.69696304e-01, -3.33163748e-01,\n",
              "        -5.08357016e-01,  4.66348292e-03, -3.92545976e-01,\n",
              "         4.07836217e-01, -2.61146815e-02, -1.01340347e-01,\n",
              "         1.25129701e-01],\n",
              "       [ 3.12255738e-01, -2.81009935e-01, -3.69725332e-03,\n",
              "         8.86376398e-02,  1.54973659e-02,  3.38184409e-01,\n",
              "         8.94143985e-02,  2.73211481e-01, -4.96827266e-01,\n",
              "        -2.17966897e-01,  3.91575088e-02, -4.15437463e-01,\n",
              "        -3.87224305e-01],\n",
              "       [ 2.48540382e-01, -3.36954379e-01,  2.99256065e-02,\n",
              "         8.01202168e-02, -4.34031552e-03,  1.90649333e-01,\n",
              "         7.13840162e-02,  1.63396938e-01, -1.54845295e-01,\n",
              "        -1.86421234e-01,  1.09092840e-01,  2.80888885e-01,\n",
              "         7.74393075e-01],\n",
              "       [ 2.75821427e-01,  4.77674042e-01,  2.95062913e-01,\n",
              "        -4.91954510e-01,  3.55641878e-01,  2.93027462e-01,\n",
              "        -1.74043667e-01,  1.79243845e-01, -7.45585014e-02,\n",
              "         2.56647151e-01,  6.66628879e-02, -4.17743291e-02,\n",
              "         1.19528777e-01],\n",
              "       [ 2.52993135e-01, -1.62337881e-01,  3.94223739e-02,\n",
              "         1.79446770e-01, -1.50172770e-01,  4.85635247e-01,\n",
              "        -4.98641956e-01, -2.74406041e-01,  4.29643399e-01,\n",
              "        -5.47431475e-04,  2.49567587e-01,  1.18318175e-01,\n",
              "        -1.80756104e-01],\n",
              "       [ 2.12895974e-01,  2.42837252e-01, -4.33567310e-01,\n",
              "        -2.58486231e-02, -2.01478803e-01,  3.76068574e-01,\n",
              "         1.76857311e-01, -1.42146250e-01, -8.06012122e-03,\n",
              "         2.42990071e-02, -6.70320799e-01,  1.52175429e-01,\n",
              "         2.02119002e-02],\n",
              "       [ 2.57381416e-01, -2.03618575e-01,  2.84869128e-01,\n",
              "        -3.90559277e-01,  7.81103436e-02, -3.10347688e-01,\n",
              "        -2.14710582e-01, -3.61385245e-01, -6.58996015e-02,\n",
              "        -4.93798993e-01, -3.35320415e-01,  1.02867825e-01,\n",
              "        -9.10422875e-02],\n",
              "       [ 3.35105951e-01, -3.95898996e-01,  2.82303544e-01,\n",
              "         2.02527781e-01,  2.62946014e-01, -1.37539376e-01,\n",
              "         2.36434703e-01, -3.27281504e-02,  1.77651663e-01,\n",
              "         5.83602322e-01, -2.94229654e-01,  1.50337758e-02,\n",
              "        -7.92219622e-02],\n",
              "       [ 2.34516922e-01, -1.57145639e-01, -4.45551867e-01,\n",
              "        -2.56948222e-01,  7.61316854e-02, -2.30123351e-01,\n",
              "        -1.27979376e-01,  4.78947453e-01,  5.12725577e-01,\n",
              "        -1.10005488e-01, -4.14352319e-02, -2.68877700e-01,\n",
              "         4.73836661e-02]])"
            ]
          },
          "execution_count": 15,
          "metadata": {},
          "output_type": "execute_result"
        }
      ],
      "source": [
        "# Eigenvectors corresponding to the Eigenvalues above.\n",
        "\n",
        "np.linalg.eigh(square_matrix)[1][:,::-1]"
      ]
    },
    {
      "cell_type": "code",
      "execution_count": 16,
      "metadata": {
        "id": "azIujx-Zdam_"
      },
      "outputs": [],
      "source": [
        "# Principal Components\n",
        "\n",
        "new_data=np.matmul(X,np.linalg.eigh(square_matrix)[1][:,::-1])"
      ]
    },
    {
      "cell_type": "code",
      "execution_count": 17,
      "metadata": {
        "id": "hung0SBPt6IT"
      },
      "outputs": [],
      "source": [
        "new_data=pd.DataFrame(new_data)"
      ]
    },
    {
      "cell_type": "code",
      "execution_count": 18,
      "metadata": {
        "colab": {
          "base_uri": "https://localhost:8080/",
          "height": 206
        },
        "id": "gntsTK6ht9yd",
        "outputId": "3c9dfe52-ca69-4e17-eab8-267bea06968e"
      },
      "outputs": [
        {
          "data": {
            "text/html": [
              "<div>\n",
              "<style scoped>\n",
              "    .dataframe tbody tr th:only-of-type {\n",
              "        vertical-align: middle;\n",
              "    }\n",
              "\n",
              "    .dataframe tbody tr th {\n",
              "        vertical-align: top;\n",
              "    }\n",
              "\n",
              "    .dataframe thead th {\n",
              "        text-align: right;\n",
              "    }\n",
              "</style>\n",
              "<table border=\"1\" class=\"dataframe\">\n",
              "  <thead>\n",
              "    <tr style=\"text-align: right;\">\n",
              "      <th></th>\n",
              "      <th>0</th>\n",
              "      <th>1</th>\n",
              "      <th>2</th>\n",
              "      <th>3</th>\n",
              "      <th>4</th>\n",
              "      <th>5</th>\n",
              "      <th>6</th>\n",
              "      <th>7</th>\n",
              "      <th>8</th>\n",
              "      <th>9</th>\n",
              "      <th>10</th>\n",
              "      <th>11</th>\n",
              "      <th>12</th>\n",
              "    </tr>\n",
              "  </thead>\n",
              "  <tbody>\n",
              "    <tr>\n",
              "      <th>0</th>\n",
              "      <td>1.965754</td>\n",
              "      <td>-0.497453</td>\n",
              "      <td>-0.233561</td>\n",
              "      <td>0.026089</td>\n",
              "      <td>0.026691</td>\n",
              "      <td>-0.074433</td>\n",
              "      <td>-0.065640</td>\n",
              "      <td>-0.091287</td>\n",
              "      <td>-0.020998</td>\n",
              "      <td>0.304062</td>\n",
              "      <td>0.014195</td>\n",
              "      <td>0.051533</td>\n",
              "      <td>-0.007920</td>\n",
              "    </tr>\n",
              "    <tr>\n",
              "      <th>1</th>\n",
              "      <td>1.478743</td>\n",
              "      <td>-0.488921</td>\n",
              "      <td>-0.184450</td>\n",
              "      <td>-0.060043</td>\n",
              "      <td>0.240098</td>\n",
              "      <td>-0.100510</td>\n",
              "      <td>-0.003670</td>\n",
              "      <td>0.101123</td>\n",
              "      <td>-0.071526</td>\n",
              "      <td>0.104071</td>\n",
              "      <td>-0.112486</td>\n",
              "      <td>0.063780</td>\n",
              "      <td>-0.006156</td>\n",
              "    </tr>\n",
              "    <tr>\n",
              "      <th>2</th>\n",
              "      <td>1.911227</td>\n",
              "      <td>-0.322592</td>\n",
              "      <td>-0.105952</td>\n",
              "      <td>0.087453</td>\n",
              "      <td>-0.046445</td>\n",
              "      <td>0.119833</td>\n",
              "      <td>-0.106892</td>\n",
              "      <td>0.108599</td>\n",
              "      <td>0.219374</td>\n",
              "      <td>-0.055301</td>\n",
              "      <td>0.042628</td>\n",
              "      <td>0.100354</td>\n",
              "      <td>-0.023345</td>\n",
              "    </tr>\n",
              "    <tr>\n",
              "      <th>3</th>\n",
              "      <td>2.106077</td>\n",
              "      <td>-0.520098</td>\n",
              "      <td>-0.532945</td>\n",
              "      <td>0.072911</td>\n",
              "      <td>0.003523</td>\n",
              "      <td>0.120107</td>\n",
              "      <td>0.090347</td>\n",
              "      <td>0.181345</td>\n",
              "      <td>-0.025221</td>\n",
              "      <td>0.049909</td>\n",
              "      <td>0.013816</td>\n",
              "      <td>-0.135976</td>\n",
              "      <td>-0.052826</td>\n",
              "    </tr>\n",
              "    <tr>\n",
              "      <th>4</th>\n",
              "      <td>1.853606</td>\n",
              "      <td>-0.019308</td>\n",
              "      <td>0.115458</td>\n",
              "      <td>0.047741</td>\n",
              "      <td>-0.107207</td>\n",
              "      <td>-0.068469</td>\n",
              "      <td>-0.027883</td>\n",
              "      <td>0.080802</td>\n",
              "      <td>-0.132525</td>\n",
              "      <td>0.027625</td>\n",
              "      <td>0.106789</td>\n",
              "      <td>0.077772</td>\n",
              "      <td>-0.033823</td>\n",
              "    </tr>\n",
              "  </tbody>\n",
              "</table>\n",
              "</div>"
            ],
            "text/plain": [
              "         0         1         2         3         4         5         6   \\\n",
              "0  1.965754 -0.497453 -0.233561  0.026089  0.026691 -0.074433 -0.065640   \n",
              "1  1.478743 -0.488921 -0.184450 -0.060043  0.240098 -0.100510 -0.003670   \n",
              "2  1.911227 -0.322592 -0.105952  0.087453 -0.046445  0.119833 -0.106892   \n",
              "3  2.106077 -0.520098 -0.532945  0.072911  0.003523  0.120107  0.090347   \n",
              "4  1.853606 -0.019308  0.115458  0.047741 -0.107207 -0.068469 -0.027883   \n",
              "\n",
              "         7         8         9         10        11        12  \n",
              "0 -0.091287 -0.020998  0.304062  0.014195  0.051533 -0.007920  \n",
              "1  0.101123 -0.071526  0.104071 -0.112486  0.063780 -0.006156  \n",
              "2  0.108599  0.219374 -0.055301  0.042628  0.100354 -0.023345  \n",
              "3  0.181345 -0.025221  0.049909  0.013816 -0.135976 -0.052826  \n",
              "4  0.080802 -0.132525  0.027625  0.106789  0.077772 -0.033823  "
            ]
          },
          "execution_count": 18,
          "metadata": {},
          "output_type": "execute_result"
        }
      ],
      "source": [
        "new_data.head()"
      ]
    },
    {
      "cell_type": "code",
      "execution_count": 19,
      "metadata": {
        "id": "d2ZFDocvuAVO"
      },
      "outputs": [],
      "source": [
        "new_data.columns=[\"PC1\",\"PC2\",\"PC3\",\"PC4\",\"PC5\",\"PC6\",\"PC7\",\"PC8\",\"PC9\",\"PC10\",\"PC11\",\"PC12\",\"PC13\"]"
      ]
    },
    {
      "cell_type": "code",
      "execution_count": 20,
      "metadata": {
        "colab": {
          "base_uri": "https://localhost:8080/",
          "height": 424
        },
        "id": "FOeQWQRguCgg",
        "outputId": "22150d81-c67e-402e-8c2a-25f6a34ea4b2"
      },
      "outputs": [
        {
          "data": {
            "text/html": [
              "<div>\n",
              "<style scoped>\n",
              "    .dataframe tbody tr th:only-of-type {\n",
              "        vertical-align: middle;\n",
              "    }\n",
              "\n",
              "    .dataframe tbody tr th {\n",
              "        vertical-align: top;\n",
              "    }\n",
              "\n",
              "    .dataframe thead th {\n",
              "        text-align: right;\n",
              "    }\n",
              "</style>\n",
              "<table border=\"1\" class=\"dataframe\">\n",
              "  <thead>\n",
              "    <tr style=\"text-align: right;\">\n",
              "      <th></th>\n",
              "      <th>PC1</th>\n",
              "      <th>PC2</th>\n",
              "      <th>PC3</th>\n",
              "      <th>PC4</th>\n",
              "      <th>PC5</th>\n",
              "      <th>PC6</th>\n",
              "      <th>PC7</th>\n",
              "      <th>PC8</th>\n",
              "      <th>PC9</th>\n",
              "      <th>PC10</th>\n",
              "      <th>PC11</th>\n",
              "      <th>PC12</th>\n",
              "      <th>PC13</th>\n",
              "    </tr>\n",
              "  </thead>\n",
              "  <tbody>\n",
              "    <tr>\n",
              "      <th>0</th>\n",
              "      <td>1.965754</td>\n",
              "      <td>-0.497453</td>\n",
              "      <td>-0.233561</td>\n",
              "      <td>0.026089</td>\n",
              "      <td>0.026691</td>\n",
              "      <td>-0.074433</td>\n",
              "      <td>-0.065640</td>\n",
              "      <td>-0.091287</td>\n",
              "      <td>-0.020998</td>\n",
              "      <td>0.304062</td>\n",
              "      <td>0.014195</td>\n",
              "      <td>0.051533</td>\n",
              "      <td>-0.007920</td>\n",
              "    </tr>\n",
              "    <tr>\n",
              "      <th>1</th>\n",
              "      <td>1.478743</td>\n",
              "      <td>-0.488921</td>\n",
              "      <td>-0.184450</td>\n",
              "      <td>-0.060043</td>\n",
              "      <td>0.240098</td>\n",
              "      <td>-0.100510</td>\n",
              "      <td>-0.003670</td>\n",
              "      <td>0.101123</td>\n",
              "      <td>-0.071526</td>\n",
              "      <td>0.104071</td>\n",
              "      <td>-0.112486</td>\n",
              "      <td>0.063780</td>\n",
              "      <td>-0.006156</td>\n",
              "    </tr>\n",
              "    <tr>\n",
              "      <th>2</th>\n",
              "      <td>1.911227</td>\n",
              "      <td>-0.322592</td>\n",
              "      <td>-0.105952</td>\n",
              "      <td>0.087453</td>\n",
              "      <td>-0.046445</td>\n",
              "      <td>0.119833</td>\n",
              "      <td>-0.106892</td>\n",
              "      <td>0.108599</td>\n",
              "      <td>0.219374</td>\n",
              "      <td>-0.055301</td>\n",
              "      <td>0.042628</td>\n",
              "      <td>0.100354</td>\n",
              "      <td>-0.023345</td>\n",
              "    </tr>\n",
              "    <tr>\n",
              "      <th>3</th>\n",
              "      <td>2.106077</td>\n",
              "      <td>-0.520098</td>\n",
              "      <td>-0.532945</td>\n",
              "      <td>0.072911</td>\n",
              "      <td>0.003523</td>\n",
              "      <td>0.120107</td>\n",
              "      <td>0.090347</td>\n",
              "      <td>0.181345</td>\n",
              "      <td>-0.025221</td>\n",
              "      <td>0.049909</td>\n",
              "      <td>0.013816</td>\n",
              "      <td>-0.135976</td>\n",
              "      <td>-0.052826</td>\n",
              "    </tr>\n",
              "    <tr>\n",
              "      <th>4</th>\n",
              "      <td>1.853606</td>\n",
              "      <td>-0.019308</td>\n",
              "      <td>0.115458</td>\n",
              "      <td>0.047741</td>\n",
              "      <td>-0.107207</td>\n",
              "      <td>-0.068469</td>\n",
              "      <td>-0.027883</td>\n",
              "      <td>0.080802</td>\n",
              "      <td>-0.132525</td>\n",
              "      <td>0.027625</td>\n",
              "      <td>0.106789</td>\n",
              "      <td>0.077772</td>\n",
              "      <td>-0.033823</td>\n",
              "    </tr>\n",
              "    <tr>\n",
              "      <th>...</th>\n",
              "      <td>...</td>\n",
              "      <td>...</td>\n",
              "      <td>...</td>\n",
              "      <td>...</td>\n",
              "      <td>...</td>\n",
              "      <td>...</td>\n",
              "      <td>...</td>\n",
              "      <td>...</td>\n",
              "      <td>...</td>\n",
              "      <td>...</td>\n",
              "      <td>...</td>\n",
              "      <td>...</td>\n",
              "      <td>...</td>\n",
              "    </tr>\n",
              "    <tr>\n",
              "      <th>173</th>\n",
              "      <td>1.486692</td>\n",
              "      <td>0.888320</td>\n",
              "      <td>-0.243248</td>\n",
              "      <td>0.229273</td>\n",
              "      <td>0.291643</td>\n",
              "      <td>-0.072341</td>\n",
              "      <td>-0.078999</td>\n",
              "      <td>0.037199</td>\n",
              "      <td>-0.006420</td>\n",
              "      <td>-0.050568</td>\n",
              "      <td>-0.035202</td>\n",
              "      <td>-0.005211</td>\n",
              "      <td>-0.019119</td>\n",
              "    </tr>\n",
              "    <tr>\n",
              "      <th>174</th>\n",
              "      <td>1.435216</td>\n",
              "      <td>0.682077</td>\n",
              "      <td>-0.198380</td>\n",
              "      <td>0.105112</td>\n",
              "      <td>-0.050274</td>\n",
              "      <td>-0.025590</td>\n",
              "      <td>-0.047392</td>\n",
              "      <td>-0.022644</td>\n",
              "      <td>0.047643</td>\n",
              "      <td>-0.085188</td>\n",
              "      <td>0.034348</td>\n",
              "      <td>-0.066004</td>\n",
              "      <td>-0.032070</td>\n",
              "    </tr>\n",
              "    <tr>\n",
              "      <th>175</th>\n",
              "      <td>1.406310</td>\n",
              "      <td>0.738718</td>\n",
              "      <td>-0.431830</td>\n",
              "      <td>0.139468</td>\n",
              "      <td>-0.072974</td>\n",
              "      <td>0.004863</td>\n",
              "      <td>-0.196149</td>\n",
              "      <td>-0.002869</td>\n",
              "      <td>-0.005707</td>\n",
              "      <td>0.067285</td>\n",
              "      <td>-0.179248</td>\n",
              "      <td>-0.040775</td>\n",
              "      <td>0.039866</td>\n",
              "    </tr>\n",
              "    <tr>\n",
              "      <th>176</th>\n",
              "      <td>1.411621</td>\n",
              "      <td>0.670539</td>\n",
              "      <td>-0.309485</td>\n",
              "      <td>-0.160215</td>\n",
              "      <td>-0.150953</td>\n",
              "      <td>0.108994</td>\n",
              "      <td>-0.151333</td>\n",
              "      <td>0.031821</td>\n",
              "      <td>0.010727</td>\n",
              "      <td>0.192551</td>\n",
              "      <td>-0.065107</td>\n",
              "      <td>-0.039180</td>\n",
              "      <td>0.011309</td>\n",
              "    </tr>\n",
              "    <tr>\n",
              "      <th>177</th>\n",
              "      <td>1.647082</td>\n",
              "      <td>0.919944</td>\n",
              "      <td>-0.199509</td>\n",
              "      <td>0.069058</td>\n",
              "      <td>0.023312</td>\n",
              "      <td>0.131766</td>\n",
              "      <td>0.119966</td>\n",
              "      <td>-0.073329</td>\n",
              "      <td>-0.063136</td>\n",
              "      <td>-0.021407</td>\n",
              "      <td>0.083481</td>\n",
              "      <td>-0.014477</td>\n",
              "      <td>-0.065537</td>\n",
              "    </tr>\n",
              "  </tbody>\n",
              "</table>\n",
              "<p>178 rows × 13 columns</p>\n",
              "</div>"
            ],
            "text/plain": [
              "          PC1       PC2       PC3       PC4       PC5       PC6       PC7  \\\n",
              "0    1.965754 -0.497453 -0.233561  0.026089  0.026691 -0.074433 -0.065640   \n",
              "1    1.478743 -0.488921 -0.184450 -0.060043  0.240098 -0.100510 -0.003670   \n",
              "2    1.911227 -0.322592 -0.105952  0.087453 -0.046445  0.119833 -0.106892   \n",
              "3    2.106077 -0.520098 -0.532945  0.072911  0.003523  0.120107  0.090347   \n",
              "4    1.853606 -0.019308  0.115458  0.047741 -0.107207 -0.068469 -0.027883   \n",
              "..        ...       ...       ...       ...       ...       ...       ...   \n",
              "173  1.486692  0.888320 -0.243248  0.229273  0.291643 -0.072341 -0.078999   \n",
              "174  1.435216  0.682077 -0.198380  0.105112 -0.050274 -0.025590 -0.047392   \n",
              "175  1.406310  0.738718 -0.431830  0.139468 -0.072974  0.004863 -0.196149   \n",
              "176  1.411621  0.670539 -0.309485 -0.160215 -0.150953  0.108994 -0.151333   \n",
              "177  1.647082  0.919944 -0.199509  0.069058  0.023312  0.131766  0.119966   \n",
              "\n",
              "          PC8       PC9      PC10      PC11      PC12      PC13  \n",
              "0   -0.091287 -0.020998  0.304062  0.014195  0.051533 -0.007920  \n",
              "1    0.101123 -0.071526  0.104071 -0.112486  0.063780 -0.006156  \n",
              "2    0.108599  0.219374 -0.055301  0.042628  0.100354 -0.023345  \n",
              "3    0.181345 -0.025221  0.049909  0.013816 -0.135976 -0.052826  \n",
              "4    0.080802 -0.132525  0.027625  0.106789  0.077772 -0.033823  \n",
              "..        ...       ...       ...       ...       ...       ...  \n",
              "173  0.037199 -0.006420 -0.050568 -0.035202 -0.005211 -0.019119  \n",
              "174 -0.022644  0.047643 -0.085188  0.034348 -0.066004 -0.032070  \n",
              "175 -0.002869 -0.005707  0.067285 -0.179248 -0.040775  0.039866  \n",
              "176  0.031821  0.010727  0.192551 -0.065107 -0.039180  0.011309  \n",
              "177 -0.073329 -0.063136 -0.021407  0.083481 -0.014477 -0.065537  \n",
              "\n",
              "[178 rows x 13 columns]"
            ]
          },
          "execution_count": 20,
          "metadata": {},
          "output_type": "execute_result"
        }
      ],
      "source": [
        "new_data"
      ]
    },
    {
      "cell_type": "code",
      "execution_count": 21,
      "metadata": {
        "id": "vIsvkMxGuDdM"
      },
      "outputs": [],
      "source": [
        "wine_type=wine[\"Type\"]\n",
        "wine_type=pd.DataFrame(wine_type)"
      ]
    },
    {
      "cell_type": "code",
      "execution_count": 22,
      "metadata": {
        "id": "ruslynjguLdG"
      },
      "outputs": [],
      "source": [
        "# Concatinating Principal Components to Winw Types.\n",
        "\n",
        "new_data=pd.concat([new_data,wine_type],axis=1)"
      ]
    },
    {
      "cell_type": "code",
      "execution_count": 23,
      "metadata": {
        "colab": {
          "base_uri": "https://localhost:8080/",
          "height": 468
        },
        "id": "BJZSq60puYKT",
        "outputId": "55e0b210-9d92-4482-cb0a-272c6307a29e"
      },
      "outputs": [
        {
          "data": {
            "text/html": [
              "<div>\n",
              "<style scoped>\n",
              "    .dataframe tbody tr th:only-of-type {\n",
              "        vertical-align: middle;\n",
              "    }\n",
              "\n",
              "    .dataframe tbody tr th {\n",
              "        vertical-align: top;\n",
              "    }\n",
              "\n",
              "    .dataframe thead th {\n",
              "        text-align: right;\n",
              "    }\n",
              "</style>\n",
              "<table border=\"1\" class=\"dataframe\">\n",
              "  <thead>\n",
              "    <tr style=\"text-align: right;\">\n",
              "      <th></th>\n",
              "      <th>PC1</th>\n",
              "      <th>PC2</th>\n",
              "      <th>PC3</th>\n",
              "      <th>PC4</th>\n",
              "      <th>PC5</th>\n",
              "      <th>PC6</th>\n",
              "      <th>PC7</th>\n",
              "      <th>PC8</th>\n",
              "      <th>PC9</th>\n",
              "      <th>PC10</th>\n",
              "      <th>PC11</th>\n",
              "      <th>PC12</th>\n",
              "      <th>PC13</th>\n",
              "      <th>Type</th>\n",
              "    </tr>\n",
              "  </thead>\n",
              "  <tbody>\n",
              "    <tr>\n",
              "      <th>0</th>\n",
              "      <td>1.965754</td>\n",
              "      <td>-0.497453</td>\n",
              "      <td>-0.233561</td>\n",
              "      <td>0.026089</td>\n",
              "      <td>0.026691</td>\n",
              "      <td>-0.074433</td>\n",
              "      <td>-0.065640</td>\n",
              "      <td>-0.091287</td>\n",
              "      <td>-0.020998</td>\n",
              "      <td>0.304062</td>\n",
              "      <td>0.014195</td>\n",
              "      <td>0.051533</td>\n",
              "      <td>-0.007920</td>\n",
              "      <td>1</td>\n",
              "    </tr>\n",
              "    <tr>\n",
              "      <th>1</th>\n",
              "      <td>1.478743</td>\n",
              "      <td>-0.488921</td>\n",
              "      <td>-0.184450</td>\n",
              "      <td>-0.060043</td>\n",
              "      <td>0.240098</td>\n",
              "      <td>-0.100510</td>\n",
              "      <td>-0.003670</td>\n",
              "      <td>0.101123</td>\n",
              "      <td>-0.071526</td>\n",
              "      <td>0.104071</td>\n",
              "      <td>-0.112486</td>\n",
              "      <td>0.063780</td>\n",
              "      <td>-0.006156</td>\n",
              "      <td>1</td>\n",
              "    </tr>\n",
              "    <tr>\n",
              "      <th>2</th>\n",
              "      <td>1.911227</td>\n",
              "      <td>-0.322592</td>\n",
              "      <td>-0.105952</td>\n",
              "      <td>0.087453</td>\n",
              "      <td>-0.046445</td>\n",
              "      <td>0.119833</td>\n",
              "      <td>-0.106892</td>\n",
              "      <td>0.108599</td>\n",
              "      <td>0.219374</td>\n",
              "      <td>-0.055301</td>\n",
              "      <td>0.042628</td>\n",
              "      <td>0.100354</td>\n",
              "      <td>-0.023345</td>\n",
              "      <td>1</td>\n",
              "    </tr>\n",
              "    <tr>\n",
              "      <th>3</th>\n",
              "      <td>2.106077</td>\n",
              "      <td>-0.520098</td>\n",
              "      <td>-0.532945</td>\n",
              "      <td>0.072911</td>\n",
              "      <td>0.003523</td>\n",
              "      <td>0.120107</td>\n",
              "      <td>0.090347</td>\n",
              "      <td>0.181345</td>\n",
              "      <td>-0.025221</td>\n",
              "      <td>0.049909</td>\n",
              "      <td>0.013816</td>\n",
              "      <td>-0.135976</td>\n",
              "      <td>-0.052826</td>\n",
              "      <td>1</td>\n",
              "    </tr>\n",
              "    <tr>\n",
              "      <th>4</th>\n",
              "      <td>1.853606</td>\n",
              "      <td>-0.019308</td>\n",
              "      <td>0.115458</td>\n",
              "      <td>0.047741</td>\n",
              "      <td>-0.107207</td>\n",
              "      <td>-0.068469</td>\n",
              "      <td>-0.027883</td>\n",
              "      <td>0.080802</td>\n",
              "      <td>-0.132525</td>\n",
              "      <td>0.027625</td>\n",
              "      <td>0.106789</td>\n",
              "      <td>0.077772</td>\n",
              "      <td>-0.033823</td>\n",
              "      <td>1</td>\n",
              "    </tr>\n",
              "    <tr>\n",
              "      <th>...</th>\n",
              "      <td>...</td>\n",
              "      <td>...</td>\n",
              "      <td>...</td>\n",
              "      <td>...</td>\n",
              "      <td>...</td>\n",
              "      <td>...</td>\n",
              "      <td>...</td>\n",
              "      <td>...</td>\n",
              "      <td>...</td>\n",
              "      <td>...</td>\n",
              "      <td>...</td>\n",
              "      <td>...</td>\n",
              "      <td>...</td>\n",
              "      <td>...</td>\n",
              "    </tr>\n",
              "    <tr>\n",
              "      <th>173</th>\n",
              "      <td>1.486692</td>\n",
              "      <td>0.888320</td>\n",
              "      <td>-0.243248</td>\n",
              "      <td>0.229273</td>\n",
              "      <td>0.291643</td>\n",
              "      <td>-0.072341</td>\n",
              "      <td>-0.078999</td>\n",
              "      <td>0.037199</td>\n",
              "      <td>-0.006420</td>\n",
              "      <td>-0.050568</td>\n",
              "      <td>-0.035202</td>\n",
              "      <td>-0.005211</td>\n",
              "      <td>-0.019119</td>\n",
              "      <td>3</td>\n",
              "    </tr>\n",
              "    <tr>\n",
              "      <th>174</th>\n",
              "      <td>1.435216</td>\n",
              "      <td>0.682077</td>\n",
              "      <td>-0.198380</td>\n",
              "      <td>0.105112</td>\n",
              "      <td>-0.050274</td>\n",
              "      <td>-0.025590</td>\n",
              "      <td>-0.047392</td>\n",
              "      <td>-0.022644</td>\n",
              "      <td>0.047643</td>\n",
              "      <td>-0.085188</td>\n",
              "      <td>0.034348</td>\n",
              "      <td>-0.066004</td>\n",
              "      <td>-0.032070</td>\n",
              "      <td>3</td>\n",
              "    </tr>\n",
              "    <tr>\n",
              "      <th>175</th>\n",
              "      <td>1.406310</td>\n",
              "      <td>0.738718</td>\n",
              "      <td>-0.431830</td>\n",
              "      <td>0.139468</td>\n",
              "      <td>-0.072974</td>\n",
              "      <td>0.004863</td>\n",
              "      <td>-0.196149</td>\n",
              "      <td>-0.002869</td>\n",
              "      <td>-0.005707</td>\n",
              "      <td>0.067285</td>\n",
              "      <td>-0.179248</td>\n",
              "      <td>-0.040775</td>\n",
              "      <td>0.039866</td>\n",
              "      <td>3</td>\n",
              "    </tr>\n",
              "    <tr>\n",
              "      <th>176</th>\n",
              "      <td>1.411621</td>\n",
              "      <td>0.670539</td>\n",
              "      <td>-0.309485</td>\n",
              "      <td>-0.160215</td>\n",
              "      <td>-0.150953</td>\n",
              "      <td>0.108994</td>\n",
              "      <td>-0.151333</td>\n",
              "      <td>0.031821</td>\n",
              "      <td>0.010727</td>\n",
              "      <td>0.192551</td>\n",
              "      <td>-0.065107</td>\n",
              "      <td>-0.039180</td>\n",
              "      <td>0.011309</td>\n",
              "      <td>3</td>\n",
              "    </tr>\n",
              "    <tr>\n",
              "      <th>177</th>\n",
              "      <td>1.647082</td>\n",
              "      <td>0.919944</td>\n",
              "      <td>-0.199509</td>\n",
              "      <td>0.069058</td>\n",
              "      <td>0.023312</td>\n",
              "      <td>0.131766</td>\n",
              "      <td>0.119966</td>\n",
              "      <td>-0.073329</td>\n",
              "      <td>-0.063136</td>\n",
              "      <td>-0.021407</td>\n",
              "      <td>0.083481</td>\n",
              "      <td>-0.014477</td>\n",
              "      <td>-0.065537</td>\n",
              "      <td>3</td>\n",
              "    </tr>\n",
              "  </tbody>\n",
              "</table>\n",
              "<p>178 rows × 14 columns</p>\n",
              "</div>"
            ],
            "text/plain": [
              "          PC1       PC2       PC3       PC4       PC5       PC6       PC7  \\\n",
              "0    1.965754 -0.497453 -0.233561  0.026089  0.026691 -0.074433 -0.065640   \n",
              "1    1.478743 -0.488921 -0.184450 -0.060043  0.240098 -0.100510 -0.003670   \n",
              "2    1.911227 -0.322592 -0.105952  0.087453 -0.046445  0.119833 -0.106892   \n",
              "3    2.106077 -0.520098 -0.532945  0.072911  0.003523  0.120107  0.090347   \n",
              "4    1.853606 -0.019308  0.115458  0.047741 -0.107207 -0.068469 -0.027883   \n",
              "..        ...       ...       ...       ...       ...       ...       ...   \n",
              "173  1.486692  0.888320 -0.243248  0.229273  0.291643 -0.072341 -0.078999   \n",
              "174  1.435216  0.682077 -0.198380  0.105112 -0.050274 -0.025590 -0.047392   \n",
              "175  1.406310  0.738718 -0.431830  0.139468 -0.072974  0.004863 -0.196149   \n",
              "176  1.411621  0.670539 -0.309485 -0.160215 -0.150953  0.108994 -0.151333   \n",
              "177  1.647082  0.919944 -0.199509  0.069058  0.023312  0.131766  0.119966   \n",
              "\n",
              "          PC8       PC9      PC10      PC11      PC12      PC13  Type  \n",
              "0   -0.091287 -0.020998  0.304062  0.014195  0.051533 -0.007920     1  \n",
              "1    0.101123 -0.071526  0.104071 -0.112486  0.063780 -0.006156     1  \n",
              "2    0.108599  0.219374 -0.055301  0.042628  0.100354 -0.023345     1  \n",
              "3    0.181345 -0.025221  0.049909  0.013816 -0.135976 -0.052826     1  \n",
              "4    0.080802 -0.132525  0.027625  0.106789  0.077772 -0.033823     1  \n",
              "..        ...       ...       ...       ...       ...       ...   ...  \n",
              "173  0.037199 -0.006420 -0.050568 -0.035202 -0.005211 -0.019119     3  \n",
              "174 -0.022644  0.047643 -0.085188  0.034348 -0.066004 -0.032070     3  \n",
              "175 -0.002869 -0.005707  0.067285 -0.179248 -0.040775  0.039866     3  \n",
              "176  0.031821  0.010727  0.192551 -0.065107 -0.039180  0.011309     3  \n",
              "177 -0.073329 -0.063136 -0.021407  0.083481 -0.014477 -0.065537     3  \n",
              "\n",
              "[178 rows x 14 columns]"
            ]
          },
          "execution_count": 23,
          "metadata": {},
          "output_type": "execute_result"
        }
      ],
      "source": [
        "new_data"
      ]
    },
    {
      "cell_type": "code",
      "execution_count": 24,
      "metadata": {
        "colab": {
          "base_uri": "https://localhost:8080/",
          "height": 497
        },
        "id": "KA_-_xsnuY_b",
        "outputId": "74f02207-a98e-4987-e92c-e57ea850e358"
      },
      "outputs": [
        {
          "data": {
            "image/png": "[encoded data removed]",
            "text/plain": [
              "<Figure size 800x800 with 1 Axes>"
            ]
          },
          "metadata": {},
          "output_type": "display_data"
        }
      ],
      "source": [
        "# Scatter plots for Principal Components 1 and 2.\n",
        "\n",
        "plt.figure(figsize=(8,8))\n",
        "sns.scatterplot(x=new_data.PC1,y=new_data.PC2,data=new_data,hue=\"Type\",palette='copper_r');"
      ]
    },
    {
      "cell_type": "markdown",
      "metadata": {
        "id": "PWVfT5pou7xl"
      },
      "source": [
        "# ***Scree Plot***"
      ]
    },
    {
      "cell_type": "code",
      "execution_count": 25,
      "metadata": {
        "id": "iwV3CxA8u-8X"
      },
      "outputs": [],
      "source": [
        "data=pd.read_csv(\"https://raw.githubusercontent.com/Prayagv15/Principal-Component-Analysis-Dimensionality-Reduction-/main/wine.csv\")"
      ]
    },
    {
      "cell_type": "code",
      "execution_count": 26,
      "metadata": {
        "colab": {
          "base_uri": "https://localhost:8080/",
          "height": 206
        },
        "id": "OGTsZr2cvErz",
        "outputId": "a6a248b4-6223-493c-8702-132acb1e10d4"
      },
      "outputs": [
        {
          "data": {
            "text/html": [
              "<div>\n",
              "<style scoped>\n",
              "    .dataframe tbody tr th:only-of-type {\n",
              "        vertical-align: middle;\n",
              "    }\n",
              "\n",
              "    .dataframe tbody tr th {\n",
              "        vertical-align: top;\n",
              "    }\n",
              "\n",
              "    .dataframe thead th {\n",
              "        text-align: right;\n",
              "    }\n",
              "</style>\n",
              "<table border=\"1\" class=\"dataframe\">\n",
              "  <thead>\n",
              "    <tr style=\"text-align: right;\">\n",
              "      <th></th>\n",
              "      <th>Type</th>\n",
              "      <th>Alcohol</th>\n",
              "      <th>Malic</th>\n",
              "      <th>Ash</th>\n",
              "      <th>Alcalinity</th>\n",
              "      <th>Magnesium</th>\n",
              "      <th>Phenols</th>\n",
              "      <th>Flavanoids</th>\n",
              "      <th>Nonflavanoids</th>\n",
              "      <th>Proanthocyanins</th>\n",
              "      <th>Color</th>\n",
              "      <th>Hue</th>\n",
              "      <th>Dilution</th>\n",
              "      <th>Proline</th>\n",
              "    </tr>\n",
              "  </thead>\n",
              "  <tbody>\n",
              "    <tr>\n",
              "      <th>0</th>\n",
              "      <td>1</td>\n",
              "      <td>14.23</td>\n",
              "      <td>1.71</td>\n",
              "      <td>2.43</td>\n",
              "      <td>15.6</td>\n",
              "      <td>127</td>\n",
              "      <td>2.80</td>\n",
              "      <td>3.06</td>\n",
              "      <td>0.28</td>\n",
              "      <td>2.29</td>\n",
              "      <td>5.64</td>\n",
              "      <td>1.04</td>\n",
              "      <td>3.92</td>\n",
              "      <td>1065</td>\n",
              "    </tr>\n",
              "    <tr>\n",
              "      <th>1</th>\n",
              "      <td>1</td>\n",
              "      <td>13.20</td>\n",
              "      <td>1.78</td>\n",
              "      <td>2.14</td>\n",
              "      <td>11.2</td>\n",
              "      <td>100</td>\n",
              "      <td>2.65</td>\n",
              "      <td>2.76</td>\n",
              "      <td>0.26</td>\n",
              "      <td>1.28</td>\n",
              "      <td>4.38</td>\n",
              "      <td>1.05</td>\n",
              "      <td>3.40</td>\n",
              "      <td>1050</td>\n",
              "    </tr>\n",
              "    <tr>\n",
              "      <th>2</th>\n",
              "      <td>1</td>\n",
              "      <td>13.16</td>\n",
              "      <td>2.36</td>\n",
              "      <td>2.67</td>\n",
              "      <td>18.6</td>\n",
              "      <td>101</td>\n",
              "      <td>2.80</td>\n",
              "      <td>3.24</td>\n",
              "      <td>0.30</td>\n",
              "      <td>2.81</td>\n",
              "      <td>5.68</td>\n",
              "      <td>1.03</td>\n",
              "      <td>3.17</td>\n",
              "      <td>1185</td>\n",
              "    </tr>\n",
              "    <tr>\n",
              "      <th>3</th>\n",
              "      <td>1</td>\n",
              "      <td>14.37</td>\n",
              "      <td>1.95</td>\n",
              "      <td>2.50</td>\n",
              "      <td>16.8</td>\n",
              "      <td>113</td>\n",
              "      <td>3.85</td>\n",
              "      <td>3.49</td>\n",
              "      <td>0.24</td>\n",
              "      <td>2.18</td>\n",
              "      <td>7.80</td>\n",
              "      <td>0.86</td>\n",
              "      <td>3.45</td>\n",
              "      <td>1480</td>\n",
              "    </tr>\n",
              "    <tr>\n",
              "      <th>4</th>\n",
              "      <td>1</td>\n",
              "      <td>13.24</td>\n",
              "      <td>2.59</td>\n",
              "      <td>2.87</td>\n",
              "      <td>21.0</td>\n",
              "      <td>118</td>\n",
              "      <td>2.80</td>\n",
              "      <td>2.69</td>\n",
              "      <td>0.39</td>\n",
              "      <td>1.82</td>\n",
              "      <td>4.32</td>\n",
              "      <td>1.04</td>\n",
              "      <td>2.93</td>\n",
              "      <td>735</td>\n",
              "    </tr>\n",
              "  </tbody>\n",
              "</table>\n",
              "</div>"
            ],
            "text/plain": [
              "   Type  Alcohol  Malic   Ash  Alcalinity  Magnesium  Phenols  Flavanoids  \\\n",
              "0     1    14.23   1.71  2.43        15.6        127     2.80        3.06   \n",
              "1     1    13.20   1.78  2.14        11.2        100     2.65        2.76   \n",
              "2     1    13.16   2.36  2.67        18.6        101     2.80        3.24   \n",
              "3     1    14.37   1.95  2.50        16.8        113     3.85        3.49   \n",
              "4     1    13.24   2.59  2.87        21.0        118     2.80        2.69   \n",
              "\n",
              "   Nonflavanoids  Proanthocyanins  Color   Hue  Dilution  Proline  \n",
              "0           0.28             2.29   5.64  1.04      3.92     1065  \n",
              "1           0.26             1.28   4.38  1.05      3.40     1050  \n",
              "2           0.30             2.81   5.68  1.03      3.17     1185  \n",
              "3           0.24             2.18   7.80  0.86      3.45     1480  \n",
              "4           0.39             1.82   4.32  1.04      2.93      735  "
            ]
          },
          "execution_count": 26,
          "metadata": {},
          "output_type": "execute_result"
        }
      ],
      "source": [
        "data.head()"
      ]
    },
    {
      "cell_type": "code",
      "execution_count": 27,
      "metadata": {
        "id": "6eZd0vgcvF9i"
      },
      "outputs": [],
      "source": [
        "df=data.iloc[:,1:]\n",
        "scaled_df=df.copy()"
      ]
    },
    {
      "cell_type": "code",
      "execution_count": 28,
      "metadata": {
        "id": "KihVofcSvMYf"
      },
      "outputs": [],
      "source": [
        "scaler=MinMaxScaler()\n",
        "a=scaler.fit_transform(scaled_df)"
      ]
    },
    {
      "cell_type": "code",
      "execution_count": 29,
      "metadata": {
        "id": "7FQ1oDCDvhi7"
      },
      "outputs": [],
      "source": [
        "scaled_df=pd.DataFrame(a,columns=scaled_df.columns)"
      ]
    },
    {
      "cell_type": "code",
      "execution_count": 30,
      "metadata": {
        "colab": {
          "base_uri": "https://localhost:8080/",
          "height": 488
        },
        "id": "nq1zEtcmvh5t",
        "outputId": "a95b3c89-efcb-4744-cc3a-6ae9452d3529"
      },
      "outputs": [
        {
          "data": {
            "text/html": [
              "<div>\n",
              "<style scoped>\n",
              "    .dataframe tbody tr th:only-of-type {\n",
              "        vertical-align: middle;\n",
              "    }\n",
              "\n",
              "    .dataframe tbody tr th {\n",
              "        vertical-align: top;\n",
              "    }\n",
              "\n",
              "    .dataframe thead th {\n",
              "        text-align: right;\n",
              "    }\n",
              "</style>\n",
              "<table border=\"1\" class=\"dataframe\">\n",
              "  <thead>\n",
              "    <tr style=\"text-align: right;\">\n",
              "      <th></th>\n",
              "      <th>Alcohol</th>\n",
              "      <th>Malic</th>\n",
              "      <th>Ash</th>\n",
              "      <th>Alcalinity</th>\n",
              "      <th>Magnesium</th>\n",
              "      <th>Phenols</th>\n",
              "      <th>Flavanoids</th>\n",
              "      <th>Nonflavanoids</th>\n",
              "      <th>Proanthocyanins</th>\n",
              "      <th>Color</th>\n",
              "      <th>Hue</th>\n",
              "      <th>Dilution</th>\n",
              "      <th>Proline</th>\n",
              "    </tr>\n",
              "  </thead>\n",
              "  <tbody>\n",
              "    <tr>\n",
              "      <th>0</th>\n",
              "      <td>0.842105</td>\n",
              "      <td>0.191700</td>\n",
              "      <td>0.572193</td>\n",
              "      <td>0.257732</td>\n",
              "      <td>0.619565</td>\n",
              "      <td>0.627586</td>\n",
              "      <td>0.573840</td>\n",
              "      <td>0.283019</td>\n",
              "      <td>0.593060</td>\n",
              "      <td>0.372014</td>\n",
              "      <td>0.455285</td>\n",
              "      <td>0.970696</td>\n",
              "      <td>0.561341</td>\n",
              "    </tr>\n",
              "    <tr>\n",
              "      <th>1</th>\n",
              "      <td>0.571053</td>\n",
              "      <td>0.205534</td>\n",
              "      <td>0.417112</td>\n",
              "      <td>0.030928</td>\n",
              "      <td>0.326087</td>\n",
              "      <td>0.575862</td>\n",
              "      <td>0.510549</td>\n",
              "      <td>0.245283</td>\n",
              "      <td>0.274448</td>\n",
              "      <td>0.264505</td>\n",
              "      <td>0.463415</td>\n",
              "      <td>0.780220</td>\n",
              "      <td>0.550642</td>\n",
              "    </tr>\n",
              "    <tr>\n",
              "      <th>2</th>\n",
              "      <td>0.560526</td>\n",
              "      <td>0.320158</td>\n",
              "      <td>0.700535</td>\n",
              "      <td>0.412371</td>\n",
              "      <td>0.336957</td>\n",
              "      <td>0.627586</td>\n",
              "      <td>0.611814</td>\n",
              "      <td>0.320755</td>\n",
              "      <td>0.757098</td>\n",
              "      <td>0.375427</td>\n",
              "      <td>0.447154</td>\n",
              "      <td>0.695971</td>\n",
              "      <td>0.646933</td>\n",
              "    </tr>\n",
              "    <tr>\n",
              "      <th>3</th>\n",
              "      <td>0.878947</td>\n",
              "      <td>0.239130</td>\n",
              "      <td>0.609626</td>\n",
              "      <td>0.319588</td>\n",
              "      <td>0.467391</td>\n",
              "      <td>0.989655</td>\n",
              "      <td>0.664557</td>\n",
              "      <td>0.207547</td>\n",
              "      <td>0.558360</td>\n",
              "      <td>0.556314</td>\n",
              "      <td>0.308943</td>\n",
              "      <td>0.798535</td>\n",
              "      <td>0.857347</td>\n",
              "    </tr>\n",
              "    <tr>\n",
              "      <th>4</th>\n",
              "      <td>0.581579</td>\n",
              "      <td>0.365613</td>\n",
              "      <td>0.807487</td>\n",
              "      <td>0.536082</td>\n",
              "      <td>0.521739</td>\n",
              "      <td>0.627586</td>\n",
              "      <td>0.495781</td>\n",
              "      <td>0.490566</td>\n",
              "      <td>0.444795</td>\n",
              "      <td>0.259386</td>\n",
              "      <td>0.455285</td>\n",
              "      <td>0.608059</td>\n",
              "      <td>0.325963</td>\n",
              "    </tr>\n",
              "    <tr>\n",
              "      <th>...</th>\n",
              "      <td>...</td>\n",
              "      <td>...</td>\n",
              "      <td>...</td>\n",
              "      <td>...</td>\n",
              "      <td>...</td>\n",
              "      <td>...</td>\n",
              "      <td>...</td>\n",
              "      <td>...</td>\n",
              "      <td>...</td>\n",
              "      <td>...</td>\n",
              "      <td>...</td>\n",
              "      <td>...</td>\n",
              "      <td>...</td>\n",
              "    </tr>\n",
              "    <tr>\n",
              "      <th>173</th>\n",
              "      <td>0.705263</td>\n",
              "      <td>0.970356</td>\n",
              "      <td>0.582888</td>\n",
              "      <td>0.510309</td>\n",
              "      <td>0.271739</td>\n",
              "      <td>0.241379</td>\n",
              "      <td>0.056962</td>\n",
              "      <td>0.735849</td>\n",
              "      <td>0.205047</td>\n",
              "      <td>0.547782</td>\n",
              "      <td>0.130081</td>\n",
              "      <td>0.172161</td>\n",
              "      <td>0.329529</td>\n",
              "    </tr>\n",
              "    <tr>\n",
              "      <th>174</th>\n",
              "      <td>0.623684</td>\n",
              "      <td>0.626482</td>\n",
              "      <td>0.598930</td>\n",
              "      <td>0.639175</td>\n",
              "      <td>0.347826</td>\n",
              "      <td>0.282759</td>\n",
              "      <td>0.086498</td>\n",
              "      <td>0.566038</td>\n",
              "      <td>0.315457</td>\n",
              "      <td>0.513652</td>\n",
              "      <td>0.178862</td>\n",
              "      <td>0.106227</td>\n",
              "      <td>0.336662</td>\n",
              "    </tr>\n",
              "    <tr>\n",
              "      <th>175</th>\n",
              "      <td>0.589474</td>\n",
              "      <td>0.699605</td>\n",
              "      <td>0.481283</td>\n",
              "      <td>0.484536</td>\n",
              "      <td>0.543478</td>\n",
              "      <td>0.210345</td>\n",
              "      <td>0.073840</td>\n",
              "      <td>0.566038</td>\n",
              "      <td>0.296530</td>\n",
              "      <td>0.761092</td>\n",
              "      <td>0.089431</td>\n",
              "      <td>0.106227</td>\n",
              "      <td>0.397290</td>\n",
              "    </tr>\n",
              "    <tr>\n",
              "      <th>176</th>\n",
              "      <td>0.563158</td>\n",
              "      <td>0.365613</td>\n",
              "      <td>0.540107</td>\n",
              "      <td>0.484536</td>\n",
              "      <td>0.543478</td>\n",
              "      <td>0.231034</td>\n",
              "      <td>0.071730</td>\n",
              "      <td>0.754717</td>\n",
              "      <td>0.331230</td>\n",
              "      <td>0.684300</td>\n",
              "      <td>0.097561</td>\n",
              "      <td>0.128205</td>\n",
              "      <td>0.400856</td>\n",
              "    </tr>\n",
              "    <tr>\n",
              "      <th>177</th>\n",
              "      <td>0.815789</td>\n",
              "      <td>0.664032</td>\n",
              "      <td>0.737968</td>\n",
              "      <td>0.716495</td>\n",
              "      <td>0.282609</td>\n",
              "      <td>0.368966</td>\n",
              "      <td>0.088608</td>\n",
              "      <td>0.811321</td>\n",
              "      <td>0.296530</td>\n",
              "      <td>0.675768</td>\n",
              "      <td>0.105691</td>\n",
              "      <td>0.120879</td>\n",
              "      <td>0.201141</td>\n",
              "    </tr>\n",
              "  </tbody>\n",
              "</table>\n",
              "<p>178 rows × 13 columns</p>\n",
              "</div>"
            ],
            "text/plain": [
              "      Alcohol     Malic       Ash  Alcalinity  Magnesium   Phenols  \\\n",
              "0    0.842105  0.191700  0.572193    0.257732   0.619565  0.627586   \n",
              "1    0.571053  0.205534  0.417112    0.030928   0.326087  0.575862   \n",
              "2    0.560526  0.320158  0.700535    0.412371   0.336957  0.627586   \n",
              "3    0.878947  0.239130  0.609626    0.319588   0.467391  0.989655   \n",
              "4    0.581579  0.365613  0.807487    0.536082   0.521739  0.627586   \n",
              "..        ...       ...       ...         ...        ...       ...   \n",
              "173  0.705263  0.970356  0.582888    0.510309   0.271739  0.241379   \n",
              "174  0.623684  0.626482  0.598930    0.639175   0.347826  0.282759   \n",
              "175  0.589474  0.699605  0.481283    0.484536   0.543478  0.210345   \n",
              "176  0.563158  0.365613  0.540107    0.484536   0.543478  0.231034   \n",
              "177  0.815789  0.664032  0.737968    0.716495   0.282609  0.368966   \n",
              "\n",
              "     Flavanoids  Nonflavanoids  Proanthocyanins     Color       Hue  Dilution  \\\n",
              "0      0.573840       0.283019         0.593060  0.372014  0.455285  0.970696   \n",
              "1      0.510549       0.245283         0.274448  0.264505  0.463415  0.780220   \n",
              "2      0.611814       0.320755         0.757098  0.375427  0.447154  0.695971   \n",
              "3      0.664557       0.207547         0.558360  0.556314  0.308943  0.798535   \n",
              "4      0.495781       0.490566         0.444795  0.259386  0.455285  0.608059   \n",
              "..          ...            ...              ...       ...       ...       ...   \n",
              "173    0.056962       0.735849         0.205047  0.547782  0.130081  0.172161   \n",
              "174    0.086498       0.566038         0.315457  0.513652  0.178862  0.106227   \n",
              "175    0.073840       0.566038         0.296530  0.761092  0.089431  0.106227   \n",
              "176    0.071730       0.754717         0.331230  0.684300  0.097561  0.128205   \n",
              "177    0.088608       0.811321         0.296530  0.675768  0.105691  0.120879   \n",
              "\n",
              "      Proline  \n",
              "0    0.561341  \n",
              "1    0.550642  \n",
              "2    0.646933  \n",
              "3    0.857347  \n",
              "4    0.325963  \n",
              "..        ...  \n",
              "173  0.329529  \n",
              "174  0.336662  \n",
              "175  0.397290  \n",
              "176  0.400856  \n",
              "177  0.201141  \n",
              "\n",
              "[178 rows x 13 columns]"
            ]
          },
          "execution_count": 30,
          "metadata": {},
          "output_type": "execute_result"
        }
      ],
      "source": [
        "scaled_df"
      ]
    },
    {
      "cell_type": "code",
      "execution_count": 31,
      "metadata": {
        "id": "zC2ZlKC9vpxY"
      },
      "outputs": [],
      "source": [
        "# Importing PCA from sklearn\n",
        "\n",
        "from sklearn.decomposition import PCA"
      ]
    },
    {
      "cell_type": "code",
      "execution_count": 32,
      "metadata": {
        "id": "excggyj5v17D"
      },
      "outputs": [],
      "source": [
        "pca=PCA(n_components=13) # Since there are 13 features"
      ]
    },
    {
      "cell_type": "code",
      "execution_count": 33,
      "metadata": {
        "id": "rq95w1_qv9_i"
      },
      "outputs": [],
      "source": [
        "pca_fit=pca.fit(scaled_df)"
      ]
    },
    {
      "cell_type": "code",
      "execution_count": 34,
      "metadata": {
        "colab": {
          "base_uri": "https://localhost:8080/"
        },
        "id": "--o5tjkowB0z",
        "outputId": "a11cb782-74c7-4111-c303-2586fac0d16b"
      },
      "outputs": [
        {
          "data": {
            "text/plain": [
              "PCA(n_components=13)"
            ]
          },
          "execution_count": 34,
          "metadata": {},
          "output_type": "execute_result"
        }
      ],
      "source": [
        "pca_fit"
      ]
    },
    {
      "cell_type": "code",
      "execution_count": 35,
      "metadata": {
        "colab": {
          "base_uri": "https://localhost:8080/",
          "height": 518
        },
        "id": "L2CEawyqwC-r",
        "outputId": "50ae8569-a17a-4ddb-ebf5-fb8e1862f477"
      },
      "outputs": [
        {
          "data": {
            "image/png": "[encoded data removed]",
            "text/plain": [
              "<Figure size 800x800 with 1 Axes>"
            ]
          },
          "metadata": {},
          "output_type": "display_data"
        }
      ],
      "source": [
        "# Scree Plot\n",
        "\n",
        "PC_values=np.arange(pca.n_components_)+1\n",
        "\n",
        "plt.figure(figsize=(8,8))\n",
        "plt.plot(PC_values,pca.explained_variance_ratio_,'o-',color='b')\n",
        "plt.xticks(PC_values)\n",
        "plt.title('Scree Plot',family='monospace',fontsize=15)\n",
        "plt.xlabel('Principal Component',family='monospace',fontsize=12)\n",
        "plt.ylabel('Variance Explained',family='monospace',fontsize=12)\n",
        "plt.show()"
      ]
    },
    {
      "cell_type": "code",
      "execution_count": 36,
      "metadata": {
        "colab": {
          "base_uri": "https://localhost:8080/"
        },
        "id": "hoqve-7ZwJSP",
        "outputId": "7abbae5c-87c9-486b-b857-78e6d1f3398c"
      },
      "outputs": [
        {
          "name": "stdout",
          "output_type": "stream",
          "text": [
            "[0.40749485 0.18970352 0.08561671 0.07426678 0.05565301 0.04658837\n",
            " 0.03663929 0.02408789 0.02274371 0.02250965 0.01381292 0.01273236\n",
            " 0.00815095]\n"
          ]
        }
      ],
      "source": [
        "print(pca.explained_variance_ratio_)"
      ]
    },
    {
      "cell_type": "code",
      "execution_count": 37,
      "metadata": {
        "colab": {
          "base_uri": "https://localhost:8080/"
        },
        "id": "y_uy4_sbwUBn",
        "outputId": "ef606ef2-536e-463c-bb54-6775cf103877"
      },
      "outputs": [
        {
          "name": "stdout",
          "output_type": "stream",
          "text": [
            "0.4075\n",
            "0.1897\n",
            "0.0856\n",
            "0.0743\n",
            "0.0557\n",
            "0.0466\n",
            "0.0366\n",
            "0.0241\n",
            "0.0227\n",
            "0.0225\n",
            "0.0138\n",
            "0.0127\n",
            "0.0082\n"
          ]
        }
      ],
      "source": [
        "for x in list(pca.explained_variance_ratio_):\n",
        "  print(np.round(x,4))"
      ]
    },
    {
      "cell_type": "markdown",
      "metadata": {
        "id": "iU7lj51CwwTI"
      },
      "source": [
        "The first Principal Component explains **40.75%** of the total variation in the dataset."
      ]
    },
    {
      "cell_type": "code",
      "execution_count": 38,
      "metadata": {
        "colab": {
          "base_uri": "https://localhost:8080/"
        },
        "id": "Q3gIibNhUy6i",
        "outputId": "31166309-9f18-411e-c85e-cfc508cd7477"
      },
      "outputs": [
        {
          "data": {
            "text/plain": [
              "array([0.40749485, 0.18970352, 0.08561671, 0.07426678, 0.05565301,\n",
              "       0.04658837, 0.03663929, 0.02408789, 0.02274371, 0.02250965,\n",
              "       0.01381292, 0.01273236, 0.00815095])"
            ]
          },
          "execution_count": 38,
          "metadata": {},
          "output_type": "execute_result"
        }
      ],
      "source": [
        "# The amount of variance that each PC explains\n",
        "\n",
        "var=pca.explained_variance_ratio_\n",
        "var"
      ]
    },
    {
      "cell_type": "code",
      "execution_count": 39,
      "metadata": {
        "id": "RTWRtYEUw-Kp"
      },
      "outputs": [],
      "source": [
        "# Cumulative Variance\n",
        "\n",
        "var1=np.cumsum(np.round(var,4)*100) # Perfom partial sum with the cumsum() function."
      ]
    },
    {
      "cell_type": "code",
      "execution_count": 40,
      "metadata": {
        "colab": {
          "base_uri": "https://localhost:8080/"
        },
        "id": "-xnI453-VCKQ",
        "outputId": "162c2e03-f61c-44bf-d184-5eccf07073e4"
      },
      "outputs": [
        {
          "data": {
            "text/plain": [
              "array([[-1.33367664e-01,  2.48515807e-01, -7.39167565e-04,\n",
              "         1.77838621e-01, -8.86572802e-02, -3.95070868e-01,\n",
              "        -4.14589792e-01,  3.33108614e-01, -2.52902105e-01,\n",
              "         9.23290406e-02, -2.51137258e-01, -4.73492101e-01,\n",
              "        -2.86862112e-01],\n",
              "       [-5.50883679e-01, -2.27390577e-01, -1.63091200e-01,\n",
              "         7.97763293e-02, -1.88165658e-01, -7.41447292e-02,\n",
              "        -1.00692215e-03, -9.96036899e-03, -3.14178847e-02,\n",
              "        -5.19707496e-01,  2.37206223e-01,  2.15562246e-01,\n",
              "        -4.43888361e-01],\n",
              "       [-8.38483848e-02,  4.92039271e-01,  4.03009367e-01,\n",
              "         4.77242411e-01,  6.55069647e-03,  2.53065140e-01,\n",
              "         1.96105456e-01,  2.85981862e-01,  2.28342345e-01,\n",
              "        -3.30999741e-02, -1.06588781e-01,  2.97776289e-01,\n",
              "        -1.51968292e-01],\n",
              "       [-4.03281504e-02,  4.86032016e-01, -2.41975652e-01,\n",
              "        -8.16939916e-02,  1.58801742e-02, -5.26432313e-02,\n",
              "        -2.70332340e-02, -7.09095281e-01,  7.65736687e-02,\n",
              "        -2.63220354e-02, -3.52498013e-01,  8.20620051e-02,\n",
              "        -2.29792503e-01],\n",
              "       [-2.78010089e-01, -4.12889958e-01,  2.86393800e-01,\n",
              "         4.18304878e-01,  4.70898721e-01, -1.80297818e-02,\n",
              "         2.57297682e-03, -3.60037857e-01,  1.48665877e-01,\n",
              "         2.00582427e-01, -7.71620754e-02, -2.63396482e-01,\n",
              "        -7.65558029e-02],\n",
              "       [-1.37254317e-01, -2.13102785e-01, -3.00964675e-01,\n",
              "        -1.35609774e-01, -3.12518646e-01,  2.83604411e-01,\n",
              "         1.47044786e-01,  1.97231755e-01,  5.03115302e-01,\n",
              "         3.88031900e-01, -2.83041419e-01, -1.67278047e-01,\n",
              "        -2.76348795e-01],\n",
              "       [-2.75352205e-01,  3.10301653e-01, -1.71805330e-01,\n",
              "        -2.97555954e-01,  5.20419359e-01, -6.65236704e-02,\n",
              "        -5.06982802e-02,  2.14888676e-01,  4.66206579e-01,\n",
              "        -2.12595824e-01,  1.93314973e-01, -2.24561421e-01,\n",
              "         1.88372489e-01],\n",
              "       [ 5.55030622e-01, -7.69281456e-02, -1.23460354e-01,\n",
              "         2.70756271e-01, -1.99366070e-02, -4.13383802e-01,\n",
              "        -1.56460745e-01, -3.42321550e-02,  4.83470145e-01,\n",
              "        -3.69237057e-02,  2.95371717e-01,  1.02303314e-01,\n",
              "        -2.60228843e-01],\n",
              "       [ 3.26686683e-01, -1.44706000e-02, -4.43615384e-02,\n",
              "        -2.04923518e-01,  4.71910296e-01,  3.51231855e-01,\n",
              "         8.89602892e-02,  1.22889237e-01, -2.84054087e-01,\n",
              "        -2.37079985e-02,  6.87746576e-02, -6.01970243e-02,\n",
              "        -6.24838818e-01],\n",
              "       [-3.59116648e-02, -2.37072825e-01, -5.68986375e-02,\n",
              "        -1.32503040e-01,  3.25867728e-01, -2.63006307e-01,\n",
              "        -1.99444858e-01,  2.36774685e-01,  1.87429817e-02,\n",
              "         3.91434937e-02, -5.34248137e-01,  6.02193751e-01,\n",
              "         2.38290504e-02],\n",
              "       [-2.80684930e-01,  1.70374648e-01,  9.07566359e-02,\n",
              "        -2.00864181e-01,  2.72773854e-02, -2.47764000e-01,\n",
              "         3.05792695e-02, -3.25501002e-02, -9.93148337e-02,\n",
              "         6.69144086e-01,  4.58587544e-01,  2.87815292e-01,\n",
              "        -1.69476208e-01],\n",
              "       [-5.61269360e-02,  6.16542748e-02, -6.32537780e-01,\n",
              "         4.76650308e-01,  1.44634964e-01,  3.33709022e-01,\n",
              "        -2.99870770e-01,  4.73112536e-02, -1.64956850e-01,\n",
              "         1.79211241e-01,  1.57379260e-01,  1.41063254e-01,\n",
              "         1.93164791e-01],\n",
              "       [ 1.13596663e-02,  2.94277481e-02, -3.48604449e-01,\n",
              "         2.12755282e-01,  1.23445378e-01, -3.87627848e-01,\n",
              "         7.75691511e-01,  1.18318269e-01, -1.80607204e-01,\n",
              "         1.62431688e-02, -9.56238231e-02, -8.17454885e-02,\n",
              "         4.81186875e-02]])"
            ]
          },
          "execution_count": 40,
          "metadata": {},
          "output_type": "execute_result"
        }
      ],
      "source": [
        "pca.components_"
      ]
    },
    {
      "cell_type": "markdown",
      "metadata": {
        "id": "PSf8MIlLSpgP"
      },
      "source": [
        "# *Cumulative Variance Plot*\n",
        "**Cumulative variance plot showing the total percentage of variance explained vs. the number of principal components.**"
      ]
    },
    {
      "cell_type": "code",
      "execution_count": 41,
      "metadata": {
        "colab": {
          "base_uri": "https://localhost:8080/",
          "height": 517
        },
        "id": "W--4rNiQVEkf",
        "outputId": "458c6f8c-5d8d-4c00-b1c1-8758ae83d449"
      },
      "outputs": [
        {
          "data": {
            "image/png": "[encoded data removed]",
            "text/plain": [
              "<Figure size 800x800 with 1 Axes>"
            ]
          },
          "metadata": {},
          "output_type": "display_data"
        }
      ],
      "source": [
        "# Commulative Variance Plot\n",
        "\n",
        "PC_values=np.arange(pca.n_components_)+1\n",
        "plt.figure(figsize=(8,8))\n",
        "plt.xticks(PC_values)\n",
        "plt.title('PCA Cumulative Scree Plot',family='monospace',fontsize=14,weight='bold')\n",
        "plt.xlabel('Principal Components',family='monospace',fontsize=12)\n",
        "plt.ylabel('Cumulative Variance',family='monospace',fontsize=12)\n",
        "plt.plot(var1,color='r')\n",
        "plt.show()"
      ]
    },
    {
      "cell_type": "markdown",
      "metadata": {
        "id": "vLR-tsNEZ22N"
      },
      "source": [
        "# **Now we perform Heirarchical and K-Means clustering using first three columns of Principal Component Scores.**"
      ]
    },
    {
      "cell_type": "markdown",
      "metadata": {
        "id": "Ciwv6wr3ZyRy"
      },
      "source": [
        "## ***Heirarchical Clustering***"
      ]
    },
    {
      "cell_type": "code",
      "execution_count": 42,
      "metadata": {
        "id": "IM4Y5aplZ1lq"
      },
      "outputs": [],
      "source": [
        "# Importing Libraries for Heirarchical Clustering\n",
        "\n",
        "import scipy.cluster.hierarchy as sch\n",
        "from sklearn.cluster import AgglomerativeClustering"
      ]
    },
    {
      "cell_type": "code",
      "execution_count": 43,
      "metadata": {
        "id": "hF6MG0TRbS8W"
      },
      "outputs": [],
      "source": [
        "data=new_data.iloc[:,:3]"
      ]
    },
    {
      "cell_type": "code",
      "execution_count": 44,
      "metadata": {
        "id": "QXY6kOI9bkEm"
      },
      "outputs": [],
      "source": [
        "data=pd.concat([data,new_data['Type']],axis=1)"
      ]
    },
    {
      "cell_type": "code",
      "execution_count": 45,
      "metadata": {
        "colab": {
          "base_uri": "https://localhost:8080/",
          "height": 206
        },
        "id": "5Cu_Vx4LbrwG",
        "outputId": "4dbf7a26-b69a-42ab-a590-493868f59823"
      },
      "outputs": [
        {
          "data": {
            "text/html": [
              "<div>\n",
              "<style scoped>\n",
              "    .dataframe tbody tr th:only-of-type {\n",
              "        vertical-align: middle;\n",
              "    }\n",
              "\n",
              "    .dataframe tbody tr th {\n",
              "        vertical-align: top;\n",
              "    }\n",
              "\n",
              "    .dataframe thead th {\n",
              "        text-align: right;\n",
              "    }\n",
              "</style>\n",
              "<table border=\"1\" class=\"dataframe\">\n",
              "  <thead>\n",
              "    <tr style=\"text-align: right;\">\n",
              "      <th></th>\n",
              "      <th>PC1</th>\n",
              "      <th>PC2</th>\n",
              "      <th>PC3</th>\n",
              "      <th>Type</th>\n",
              "    </tr>\n",
              "  </thead>\n",
              "  <tbody>\n",
              "    <tr>\n",
              "      <th>0</th>\n",
              "      <td>1.965754</td>\n",
              "      <td>-0.497453</td>\n",
              "      <td>-0.233561</td>\n",
              "      <td>1</td>\n",
              "    </tr>\n",
              "    <tr>\n",
              "      <th>1</th>\n",
              "      <td>1.478743</td>\n",
              "      <td>-0.488921</td>\n",
              "      <td>-0.184450</td>\n",
              "      <td>1</td>\n",
              "    </tr>\n",
              "    <tr>\n",
              "      <th>2</th>\n",
              "      <td>1.911227</td>\n",
              "      <td>-0.322592</td>\n",
              "      <td>-0.105952</td>\n",
              "      <td>1</td>\n",
              "    </tr>\n",
              "    <tr>\n",
              "      <th>3</th>\n",
              "      <td>2.106077</td>\n",
              "      <td>-0.520098</td>\n",
              "      <td>-0.532945</td>\n",
              "      <td>1</td>\n",
              "    </tr>\n",
              "    <tr>\n",
              "      <th>4</th>\n",
              "      <td>1.853606</td>\n",
              "      <td>-0.019308</td>\n",
              "      <td>0.115458</td>\n",
              "      <td>1</td>\n",
              "    </tr>\n",
              "  </tbody>\n",
              "</table>\n",
              "</div>"
            ],
            "text/plain": [
              "        PC1       PC2       PC3  Type\n",
              "0  1.965754 -0.497453 -0.233561     1\n",
              "1  1.478743 -0.488921 -0.184450     1\n",
              "2  1.911227 -0.322592 -0.105952     1\n",
              "3  2.106077 -0.520098 -0.532945     1\n",
              "4  1.853606 -0.019308  0.115458     1"
            ]
          },
          "execution_count": 45,
          "metadata": {},
          "output_type": "execute_result"
        }
      ],
      "source": [
        "data.head()"
      ]
    },
    {
      "cell_type": "code",
      "execution_count": 46,
      "metadata": {
        "colab": {
          "base_uri": "https://localhost:8080/",
          "height": 300
        },
        "id": "tdN6XdGycGq9",
        "outputId": "95587647-3c75-4999-bb52-096b2a29de15"
      },
      "outputs": [
        {
          "data": {
            "text/html": [
              "<div>\n",
              "<style scoped>\n",
              "    .dataframe tbody tr th:only-of-type {\n",
              "        vertical-align: middle;\n",
              "    }\n",
              "\n",
              "    .dataframe tbody tr th {\n",
              "        vertical-align: top;\n",
              "    }\n",
              "\n",
              "    .dataframe thead th {\n",
              "        text-align: right;\n",
              "    }\n",
              "</style>\n",
              "<table border=\"1\" class=\"dataframe\">\n",
              "  <thead>\n",
              "    <tr style=\"text-align: right;\">\n",
              "      <th></th>\n",
              "      <th>PC1</th>\n",
              "      <th>PC2</th>\n",
              "      <th>PC3</th>\n",
              "    </tr>\n",
              "  </thead>\n",
              "  <tbody>\n",
              "    <tr>\n",
              "      <th>count</th>\n",
              "      <td>178.000000</td>\n",
              "      <td>178.000000</td>\n",
              "      <td>178.000000</td>\n",
              "    </tr>\n",
              "    <tr>\n",
              "      <th>mean</th>\n",
              "      <td>1.497184</td>\n",
              "      <td>0.041043</td>\n",
              "      <td>0.019166</td>\n",
              "    </tr>\n",
              "    <tr>\n",
              "      <th>std</th>\n",
              "      <td>0.292490</td>\n",
              "      <td>0.436246</td>\n",
              "      <td>0.296082</td>\n",
              "    </tr>\n",
              "    <tr>\n",
              "      <th>min</th>\n",
              "      <td>0.611403</td>\n",
              "      <td>-0.587410</td>\n",
              "      <td>-0.547573</td>\n",
              "    </tr>\n",
              "    <tr>\n",
              "      <th>25%</th>\n",
              "      <td>1.272980</td>\n",
              "      <td>-0.327424</td>\n",
              "      <td>-0.233238</td>\n",
              "    </tr>\n",
              "    <tr>\n",
              "      <th>50%</th>\n",
              "      <td>1.454452</td>\n",
              "      <td>-0.091603</td>\n",
              "      <td>-0.021251</td>\n",
              "    </tr>\n",
              "    <tr>\n",
              "      <th>75%</th>\n",
              "      <td>1.719321</td>\n",
              "      <td>0.432951</td>\n",
              "      <td>0.271512</td>\n",
              "    </tr>\n",
              "    <tr>\n",
              "      <th>max</th>\n",
              "      <td>2.129440</td>\n",
              "      <td>0.981858</td>\n",
              "      <td>0.836439</td>\n",
              "    </tr>\n",
              "  </tbody>\n",
              "</table>\n",
              "</div>"
            ],
            "text/plain": [
              "              PC1         PC2         PC3\n",
              "count  178.000000  178.000000  178.000000\n",
              "mean     1.497184    0.041043    0.019166\n",
              "std      0.292490    0.436246    0.296082\n",
              "min      0.611403   -0.587410   -0.547573\n",
              "25%      1.272980   -0.327424   -0.233238\n",
              "50%      1.454452   -0.091603   -0.021251\n",
              "75%      1.719321    0.432951    0.271512\n",
              "max      2.129440    0.981858    0.836439"
            ]
          },
          "execution_count": 46,
          "metadata": {},
          "output_type": "execute_result"
        }
      ],
      "source": [
        "data.iloc[:,:3].describe()"
      ]
    },
    {
      "cell_type": "code",
      "execution_count": 47,
      "metadata": {
        "colab": {
          "base_uri": "https://localhost:8080/",
          "height": 206
        },
        "id": "H7g9UQsJcQZu",
        "outputId": "a270e94c-a6e4-44a1-cfd1-a5ad73e16a50"
      },
      "outputs": [
        {
          "data": {
            "text/html": [
              "<div>\n",
              "<style scoped>\n",
              "    .dataframe tbody tr th:only-of-type {\n",
              "        vertical-align: middle;\n",
              "    }\n",
              "\n",
              "    .dataframe tbody tr th {\n",
              "        vertical-align: top;\n",
              "    }\n",
              "\n",
              "    .dataframe thead th {\n",
              "        text-align: right;\n",
              "    }\n",
              "</style>\n",
              "<table border=\"1\" class=\"dataframe\">\n",
              "  <thead>\n",
              "    <tr style=\"text-align: right;\">\n",
              "      <th></th>\n",
              "      <th>PC1</th>\n",
              "      <th>PC2</th>\n",
              "      <th>PC3</th>\n",
              "      <th>Type</th>\n",
              "    </tr>\n",
              "  </thead>\n",
              "  <tbody>\n",
              "    <tr>\n",
              "      <th>154</th>\n",
              "      <td>1.108991</td>\n",
              "      <td>0.563847</td>\n",
              "      <td>-0.104062</td>\n",
              "      <td>3</td>\n",
              "    </tr>\n",
              "    <tr>\n",
              "      <th>23</th>\n",
              "      <td>1.597969</td>\n",
              "      <td>-0.379653</td>\n",
              "      <td>0.060264</td>\n",
              "      <td>1</td>\n",
              "    </tr>\n",
              "    <tr>\n",
              "      <th>95</th>\n",
              "      <td>1.702377</td>\n",
              "      <td>-0.313891</td>\n",
              "      <td>0.065736</td>\n",
              "      <td>2</td>\n",
              "    </tr>\n",
              "    <tr>\n",
              "      <th>11</th>\n",
              "      <td>1.619615</td>\n",
              "      <td>-0.289309</td>\n",
              "      <td>-0.309377</td>\n",
              "      <td>1</td>\n",
              "    </tr>\n",
              "    <tr>\n",
              "      <th>48</th>\n",
              "      <td>1.839727</td>\n",
              "      <td>-0.208559</td>\n",
              "      <td>-0.240822</td>\n",
              "      <td>1</td>\n",
              "    </tr>\n",
              "  </tbody>\n",
              "</table>\n",
              "</div>"
            ],
            "text/plain": [
              "          PC1       PC2       PC3  Type\n",
              "154  1.108991  0.563847 -0.104062     3\n",
              "23   1.597969 -0.379653  0.060264     1\n",
              "95   1.702377 -0.313891  0.065736     2\n",
              "11   1.619615 -0.289309 -0.309377     1\n",
              "48   1.839727 -0.208559 -0.240822     1"
            ]
          },
          "execution_count": 47,
          "metadata": {},
          "output_type": "execute_result"
        }
      ],
      "source": [
        "data.sample(5)"
      ]
    },
    {
      "cell_type": "code",
      "execution_count": 48,
      "metadata": {
        "id": "G41GYJ2hdRfr"
      },
      "outputs": [],
      "source": [
        "data1=data.iloc[:,:3]\n",
        "scaled_df=data1.copy()"
      ]
    },
    {
      "cell_type": "code",
      "execution_count": 49,
      "metadata": {
        "id": "B9V2pjn-ilsb"
      },
      "outputs": [],
      "source": [
        "scaler=MinMaxScaler()\n",
        "scaled_df=data1.copy()\n",
        "a=scaler.fit_transform(scaled_df)"
      ]
    },
    {
      "cell_type": "code",
      "execution_count": 50,
      "metadata": {
        "colab": {
          "base_uri": "https://localhost:8080/",
          "height": 424
        },
        "id": "VRP7OEW_injk",
        "outputId": "daff95a4-c5f3-441e-a45d-ad4ececbe048"
      },
      "outputs": [
        {
          "data": {
            "text/html": [
              "<div>\n",
              "<style scoped>\n",
              "    .dataframe tbody tr th:only-of-type {\n",
              "        vertical-align: middle;\n",
              "    }\n",
              "\n",
              "    .dataframe tbody tr th {\n",
              "        vertical-align: top;\n",
              "    }\n",
              "\n",
              "    .dataframe thead th {\n",
              "        text-align: right;\n",
              "    }\n",
              "</style>\n",
              "<table border=\"1\" class=\"dataframe\">\n",
              "  <thead>\n",
              "    <tr style=\"text-align: right;\">\n",
              "      <th></th>\n",
              "      <th>PC1</th>\n",
              "      <th>PC2</th>\n",
              "      <th>PC3</th>\n",
              "    </tr>\n",
              "  </thead>\n",
              "  <tbody>\n",
              "    <tr>\n",
              "      <th>0</th>\n",
              "      <td>1.965754</td>\n",
              "      <td>-0.497453</td>\n",
              "      <td>-0.233561</td>\n",
              "    </tr>\n",
              "    <tr>\n",
              "      <th>1</th>\n",
              "      <td>1.478743</td>\n",
              "      <td>-0.488921</td>\n",
              "      <td>-0.184450</td>\n",
              "    </tr>\n",
              "    <tr>\n",
              "      <th>2</th>\n",
              "      <td>1.911227</td>\n",
              "      <td>-0.322592</td>\n",
              "      <td>-0.105952</td>\n",
              "    </tr>\n",
              "    <tr>\n",
              "      <th>3</th>\n",
              "      <td>2.106077</td>\n",
              "      <td>-0.520098</td>\n",
              "      <td>-0.532945</td>\n",
              "    </tr>\n",
              "    <tr>\n",
              "      <th>4</th>\n",
              "      <td>1.853606</td>\n",
              "      <td>-0.019308</td>\n",
              "      <td>0.115458</td>\n",
              "    </tr>\n",
              "    <tr>\n",
              "      <th>...</th>\n",
              "      <td>...</td>\n",
              "      <td>...</td>\n",
              "      <td>...</td>\n",
              "    </tr>\n",
              "    <tr>\n",
              "      <th>173</th>\n",
              "      <td>1.486692</td>\n",
              "      <td>0.888320</td>\n",
              "      <td>-0.243248</td>\n",
              "    </tr>\n",
              "    <tr>\n",
              "      <th>174</th>\n",
              "      <td>1.435216</td>\n",
              "      <td>0.682077</td>\n",
              "      <td>-0.198380</td>\n",
              "    </tr>\n",
              "    <tr>\n",
              "      <th>175</th>\n",
              "      <td>1.406310</td>\n",
              "      <td>0.738718</td>\n",
              "      <td>-0.431830</td>\n",
              "    </tr>\n",
              "    <tr>\n",
              "      <th>176</th>\n",
              "      <td>1.411621</td>\n",
              "      <td>0.670539</td>\n",
              "      <td>-0.309485</td>\n",
              "    </tr>\n",
              "    <tr>\n",
              "      <th>177</th>\n",
              "      <td>1.647082</td>\n",
              "      <td>0.919944</td>\n",
              "      <td>-0.199509</td>\n",
              "    </tr>\n",
              "  </tbody>\n",
              "</table>\n",
              "<p>178 rows × 3 columns</p>\n",
              "</div>"
            ],
            "text/plain": [
              "          PC1       PC2       PC3\n",
              "0    1.965754 -0.497453 -0.233561\n",
              "1    1.478743 -0.488921 -0.184450\n",
              "2    1.911227 -0.322592 -0.105952\n",
              "3    2.106077 -0.520098 -0.532945\n",
              "4    1.853606 -0.019308  0.115458\n",
              "..        ...       ...       ...\n",
              "173  1.486692  0.888320 -0.243248\n",
              "174  1.435216  0.682077 -0.198380\n",
              "175  1.406310  0.738718 -0.431830\n",
              "176  1.411621  0.670539 -0.309485\n",
              "177  1.647082  0.919944 -0.199509\n",
              "\n",
              "[178 rows x 3 columns]"
            ]
          },
          "execution_count": 50,
          "metadata": {},
          "output_type": "execute_result"
        }
      ],
      "source": [
        "scaled_df"
      ]
    },
    {
      "cell_type": "code",
      "execution_count": 51,
      "metadata": {
        "id": "8fuMnbo0i3xU"
      },
      "outputs": [],
      "source": [
        "scaled_df=pd.DataFrame(a,columns=scaled_df.columns)"
      ]
    },
    {
      "cell_type": "code",
      "execution_count": 52,
      "metadata": {
        "colab": {
          "base_uri": "https://localhost:8080/",
          "height": 424
        },
        "id": "gaclks4WjqIe",
        "outputId": "87a6cf5e-a735-463e-b1fb-6816f0b90182"
      },
      "outputs": [
        {
          "data": {
            "text/html": [
              "<div>\n",
              "<style scoped>\n",
              "    .dataframe tbody tr th:only-of-type {\n",
              "        vertical-align: middle;\n",
              "    }\n",
              "\n",
              "    .dataframe tbody tr th {\n",
              "        vertical-align: top;\n",
              "    }\n",
              "\n",
              "    .dataframe thead th {\n",
              "        text-align: right;\n",
              "    }\n",
              "</style>\n",
              "<table border=\"1\" class=\"dataframe\">\n",
              "  <thead>\n",
              "    <tr style=\"text-align: right;\">\n",
              "      <th></th>\n",
              "      <th>PC1</th>\n",
              "      <th>PC2</th>\n",
              "      <th>PC3</th>\n",
              "    </tr>\n",
              "  </thead>\n",
              "  <tbody>\n",
              "    <tr>\n",
              "      <th>0</th>\n",
              "      <td>0.892173</td>\n",
              "      <td>0.057324</td>\n",
              "      <td>0.226885</td>\n",
              "    </tr>\n",
              "    <tr>\n",
              "      <th>1</th>\n",
              "      <td>0.571356</td>\n",
              "      <td>0.062761</td>\n",
              "      <td>0.262370</td>\n",
              "    </tr>\n",
              "    <tr>\n",
              "      <th>2</th>\n",
              "      <td>0.856253</td>\n",
              "      <td>0.168753</td>\n",
              "      <td>0.319087</td>\n",
              "    </tr>\n",
              "    <tr>\n",
              "      <th>3</th>\n",
              "      <td>0.984609</td>\n",
              "      <td>0.042894</td>\n",
              "      <td>0.010569</td>\n",
              "    </tr>\n",
              "    <tr>\n",
              "      <th>4</th>\n",
              "      <td>0.818296</td>\n",
              "      <td>0.362017</td>\n",
              "      <td>0.479065</td>\n",
              "    </tr>\n",
              "    <tr>\n",
              "      <th>...</th>\n",
              "      <td>...</td>\n",
              "      <td>...</td>\n",
              "      <td>...</td>\n",
              "    </tr>\n",
              "    <tr>\n",
              "      <th>173</th>\n",
              "      <td>0.576592</td>\n",
              "      <td>0.940394</td>\n",
              "      <td>0.219886</td>\n",
              "    </tr>\n",
              "    <tr>\n",
              "      <th>174</th>\n",
              "      <td>0.542683</td>\n",
              "      <td>0.808967</td>\n",
              "      <td>0.252304</td>\n",
              "    </tr>\n",
              "    <tr>\n",
              "      <th>175</th>\n",
              "      <td>0.523641</td>\n",
              "      <td>0.845061</td>\n",
              "      <td>0.083629</td>\n",
              "    </tr>\n",
              "    <tr>\n",
              "      <th>176</th>\n",
              "      <td>0.527140</td>\n",
              "      <td>0.801615</td>\n",
              "      <td>0.172027</td>\n",
              "    </tr>\n",
              "    <tr>\n",
              "      <th>177</th>\n",
              "      <td>0.682248</td>\n",
              "      <td>0.960546</td>\n",
              "      <td>0.251489</td>\n",
              "    </tr>\n",
              "  </tbody>\n",
              "</table>\n",
              "<p>178 rows × 3 columns</p>\n",
              "</div>"
            ],
            "text/plain": [
              "          PC1       PC2       PC3\n",
              "0    0.892173  0.057324  0.226885\n",
              "1    0.571356  0.062761  0.262370\n",
              "2    0.856253  0.168753  0.319087\n",
              "3    0.984609  0.042894  0.010569\n",
              "4    0.818296  0.362017  0.479065\n",
              "..        ...       ...       ...\n",
              "173  0.576592  0.940394  0.219886\n",
              "174  0.542683  0.808967  0.252304\n",
              "175  0.523641  0.845061  0.083629\n",
              "176  0.527140  0.801615  0.172027\n",
              "177  0.682248  0.960546  0.251489\n",
              "\n",
              "[178 rows x 3 columns]"
            ]
          },
          "execution_count": 52,
          "metadata": {},
          "output_type": "execute_result"
        }
      ],
      "source": [
        "scaled_df"
      ]
    },
    {
      "cell_type": "code",
      "execution_count": 53,
      "metadata": {
        "colab": {
          "base_uri": "https://localhost:8080/",
          "height": 81
        },
        "id": "Mw9ha3r2jq0n",
        "outputId": "bcf47d33-1e8b-474d-d658-a707421d0633"
      },
      "outputs": [
        {
          "data": {
            "text/html": [
              "<div>\n",
              "<style scoped>\n",
              "    .dataframe tbody tr th:only-of-type {\n",
              "        vertical-align: middle;\n",
              "    }\n",
              "\n",
              "    .dataframe tbody tr th {\n",
              "        vertical-align: top;\n",
              "    }\n",
              "\n",
              "    .dataframe thead th {\n",
              "        text-align: right;\n",
              "    }\n",
              "</style>\n",
              "<table border=\"1\" class=\"dataframe\">\n",
              "  <thead>\n",
              "    <tr style=\"text-align: right;\">\n",
              "      <th></th>\n",
              "      <th>PC1</th>\n",
              "      <th>PC2</th>\n",
              "      <th>PC3</th>\n",
              "    </tr>\n",
              "  </thead>\n",
              "  <tbody>\n",
              "    <tr>\n",
              "      <th>137</th>\n",
              "      <td>0.582587</td>\n",
              "      <td>1.0</td>\n",
              "      <td>0.583089</td>\n",
              "    </tr>\n",
              "  </tbody>\n",
              "</table>\n",
              "</div>"
            ],
            "text/plain": [
              "          PC1  PC2       PC3\n",
              "137  0.582587  1.0  0.583089"
            ]
          },
          "execution_count": 53,
          "metadata": {},
          "output_type": "execute_result"
        }
      ],
      "source": [
        "scaled_df.sample()"
      ]
    },
    {
      "cell_type": "code",
      "execution_count": 54,
      "metadata": {
        "id": "JbYV2eNIj5Eq"
      },
      "outputs": [],
      "source": [
        "scaled_df=pd.concat([scaled_df,new_data['Type']],axis=1)"
      ]
    },
    {
      "cell_type": "code",
      "execution_count": 55,
      "metadata": {
        "colab": {
          "base_uri": "https://localhost:8080/",
          "height": 424
        },
        "id": "zbq7CnUDkCKo",
        "outputId": "6515dad3-c909-4888-b149-f452b0fcc7d3"
      },
      "outputs": [
        {
          "data": {
            "text/html": [
              "<div>\n",
              "<style scoped>\n",
              "    .dataframe tbody tr th:only-of-type {\n",
              "        vertical-align: middle;\n",
              "    }\n",
              "\n",
              "    .dataframe tbody tr th {\n",
              "        vertical-align: top;\n",
              "    }\n",
              "\n",
              "    .dataframe thead th {\n",
              "        text-align: right;\n",
              "    }\n",
              "</style>\n",
              "<table border=\"1\" class=\"dataframe\">\n",
              "  <thead>\n",
              "    <tr style=\"text-align: right;\">\n",
              "      <th></th>\n",
              "      <th>PC1</th>\n",
              "      <th>PC2</th>\n",
              "      <th>PC3</th>\n",
              "      <th>Type</th>\n",
              "    </tr>\n",
              "  </thead>\n",
              "  <tbody>\n",
              "    <tr>\n",
              "      <th>0</th>\n",
              "      <td>0.892173</td>\n",
              "      <td>0.057324</td>\n",
              "      <td>0.226885</td>\n",
              "      <td>1</td>\n",
              "    </tr>\n",
              "    <tr>\n",
              "      <th>1</th>\n",
              "      <td>0.571356</td>\n",
              "      <td>0.062761</td>\n",
              "      <td>0.262370</td>\n",
              "      <td>1</td>\n",
              "    </tr>\n",
              "    <tr>\n",
              "      <th>2</th>\n",
              "      <td>0.856253</td>\n",
              "      <td>0.168753</td>\n",
              "      <td>0.319087</td>\n",
              "      <td>1</td>\n",
              "    </tr>\n",
              "    <tr>\n",
              "      <th>3</th>\n",
              "      <td>0.984609</td>\n",
              "      <td>0.042894</td>\n",
              "      <td>0.010569</td>\n",
              "      <td>1</td>\n",
              "    </tr>\n",
              "    <tr>\n",
              "      <th>4</th>\n",
              "      <td>0.818296</td>\n",
              "      <td>0.362017</td>\n",
              "      <td>0.479065</td>\n",
              "      <td>1</td>\n",
              "    </tr>\n",
              "    <tr>\n",
              "      <th>...</th>\n",
              "      <td>...</td>\n",
              "      <td>...</td>\n",
              "      <td>...</td>\n",
              "      <td>...</td>\n",
              "    </tr>\n",
              "    <tr>\n",
              "      <th>173</th>\n",
              "      <td>0.576592</td>\n",
              "      <td>0.940394</td>\n",
              "      <td>0.219886</td>\n",
              "      <td>3</td>\n",
              "    </tr>\n",
              "    <tr>\n",
              "      <th>174</th>\n",
              "      <td>0.542683</td>\n",
              "      <td>0.808967</td>\n",
              "      <td>0.252304</td>\n",
              "      <td>3</td>\n",
              "    </tr>\n",
              "    <tr>\n",
              "      <th>175</th>\n",
              "      <td>0.523641</td>\n",
              "      <td>0.845061</td>\n",
              "      <td>0.083629</td>\n",
              "      <td>3</td>\n",
              "    </tr>\n",
              "    <tr>\n",
              "      <th>176</th>\n",
              "      <td>0.527140</td>\n",
              "      <td>0.801615</td>\n",
              "      <td>0.172027</td>\n",
              "      <td>3</td>\n",
              "    </tr>\n",
              "    <tr>\n",
              "      <th>177</th>\n",
              "      <td>0.682248</td>\n",
              "      <td>0.960546</td>\n",
              "      <td>0.251489</td>\n",
              "      <td>3</td>\n",
              "    </tr>\n",
              "  </tbody>\n",
              "</table>\n",
              "<p>178 rows × 4 columns</p>\n",
              "</div>"
            ],
            "text/plain": [
              "          PC1       PC2       PC3  Type\n",
              "0    0.892173  0.057324  0.226885     1\n",
              "1    0.571356  0.062761  0.262370     1\n",
              "2    0.856253  0.168753  0.319087     1\n",
              "3    0.984609  0.042894  0.010569     1\n",
              "4    0.818296  0.362017  0.479065     1\n",
              "..        ...       ...       ...   ...\n",
              "173  0.576592  0.940394  0.219886     3\n",
              "174  0.542683  0.808967  0.252304     3\n",
              "175  0.523641  0.845061  0.083629     3\n",
              "176  0.527140  0.801615  0.172027     3\n",
              "177  0.682248  0.960546  0.251489     3\n",
              "\n",
              "[178 rows x 4 columns]"
            ]
          },
          "execution_count": 55,
          "metadata": {},
          "output_type": "execute_result"
        }
      ],
      "source": [
        "scaled_df"
      ]
    },
    {
      "cell_type": "code",
      "execution_count": 56,
      "metadata": {
        "colab": {
          "base_uri": "https://localhost:8080/",
          "height": 561
        },
        "id": "U9U2sphBkC38",
        "outputId": "28346c8d-df6c-4ebc-9efc-2e70d24261ad"
      },
      "outputs": [
        {
          "data": {
            "image/png": "[encoded data removed]",
            "text/plain": [
              "<Figure size 2000x1000 with 1 Axes>"
            ]
          },
          "metadata": {},
          "output_type": "display_data"
        }
      ],
      "source": [
        "# Dendrogram\n",
        "\n",
        "plt.figure(figsize=(20,10))\n",
        "dendrogram=sch.dendrogram(sch.linkage(scaled_df.iloc[:,:3],method='complete'),leaf_font_size=7,orientation='top')\n",
        "plt.tight_layout()"
      ]
    },
    {
      "cell_type": "code",
      "execution_count": 57,
      "metadata": {
        "id": "xzank6Y2kcwG"
      },
      "outputs": [],
      "source": [
        "hc=AgglomerativeClustering(n_clusters=3,affinity='euclidean',linkage='complete')"
      ]
    },
    {
      "cell_type": "code",
      "execution_count": 58,
      "metadata": {
        "colab": {
          "base_uri": "https://localhost:8080/"
        },
        "id": "LwURDUeWlUg2",
        "outputId": "002afe47-7762-4536-c126-7e1bfe92d340"
      },
      "outputs": [
        {
          "data": {
            "text/plain": [
              "AgglomerativeClustering(linkage='complete', n_clusters=3)"
            ]
          },
          "execution_count": 58,
          "metadata": {},
          "output_type": "execute_result"
        }
      ],
      "source": [
        "hc.fit(scaled_df.iloc[:,:3])"
      ]
    },
    {
      "cell_type": "code",
      "execution_count": 59,
      "metadata": {
        "id": "iVwFwN9flYaR"
      },
      "outputs": [],
      "source": [
        "y_hc=hc.fit_predict(scaled_df.iloc[:,:3])"
      ]
    },
    {
      "cell_type": "code",
      "execution_count": 60,
      "metadata": {
        "colab": {
          "base_uri": "https://localhost:8080/"
        },
        "id": "0YlbZ4txlfEH",
        "outputId": "a7a20756-feb8-45ca-c04a-74c67d9345cf"
      },
      "outputs": [
        {
          "data": {
            "text/plain": [
              "array([1, 1, 1, 1, 2, 1, 1, 1, 1, 1, 1, 1, 1, 1, 1, 1, 1, 1, 1, 1, 1, 1,\n",
              "       1, 1, 1, 2, 1, 1, 1, 1, 1, 1, 1, 1, 1, 1, 1, 1, 1, 1, 1, 1, 1, 1,\n",
              "       1, 1, 1, 1, 1, 1, 1, 1, 1, 1, 1, 1, 1, 1, 1, 0, 0, 0, 0, 1, 0, 0,\n",
              "       1, 0, 0, 1, 0, 2, 0, 2, 1, 0, 0, 0, 0, 2, 0, 0, 0, 0, 0, 0, 0, 2,\n",
              "       0, 0, 0, 0, 0, 0, 0, 1, 0, 0, 1, 2, 0, 0, 0, 0, 0, 2, 0, 0, 0, 0,\n",
              "       0, 0, 2, 0, 0, 2, 0, 0, 0, 0, 0, 2, 2, 0, 0, 0, 0, 2, 0, 0, 0, 0,\n",
              "       0, 0, 0, 0, 0, 0, 0, 0, 0, 0, 0, 0, 0, 0, 0, 0, 0, 0, 0, 0, 0, 0,\n",
              "       0, 0, 0, 0, 0, 0, 0, 0, 0, 0, 0, 0, 0, 0, 0, 0, 0, 0, 0, 0, 0, 0,\n",
              "       0, 0], dtype=int64)"
            ]
          },
          "execution_count": 60,
          "metadata": {},
          "output_type": "execute_result"
        }
      ],
      "source": [
        "y_hc"
      ]
    },
    {
      "cell_type": "code",
      "execution_count": 61,
      "metadata": {
        "id": "J-x59AxElf1m"
      },
      "outputs": [],
      "source": [
        "scaled_df['H_Cluster_ID']=y_hc"
      ]
    },
    {
      "cell_type": "code",
      "execution_count": 62,
      "metadata": {
        "colab": {
          "base_uri": "https://localhost:8080/",
          "height": 424
        },
        "id": "imYwKmOFln8F",
        "outputId": "bb78d7a4-9a6c-4b37-f4e1-684b4a6f4e2e"
      },
      "outputs": [
        {
          "data": {
            "text/html": [
              "<div>\n",
              "<style scoped>\n",
              "    .dataframe tbody tr th:only-of-type {\n",
              "        vertical-align: middle;\n",
              "    }\n",
              "\n",
              "    .dataframe tbody tr th {\n",
              "        vertical-align: top;\n",
              "    }\n",
              "\n",
              "    .dataframe thead th {\n",
              "        text-align: right;\n",
              "    }\n",
              "</style>\n",
              "<table border=\"1\" class=\"dataframe\">\n",
              "  <thead>\n",
              "    <tr style=\"text-align: right;\">\n",
              "      <th></th>\n",
              "      <th>PC1</th>\n",
              "      <th>PC2</th>\n",
              "      <th>PC3</th>\n",
              "      <th>Type</th>\n",
              "      <th>H_Cluster_ID</th>\n",
              "    </tr>\n",
              "  </thead>\n",
              "  <tbody>\n",
              "    <tr>\n",
              "      <th>0</th>\n",
              "      <td>0.892173</td>\n",
              "      <td>0.057324</td>\n",
              "      <td>0.226885</td>\n",
              "      <td>1</td>\n",
              "      <td>1</td>\n",
              "    </tr>\n",
              "    <tr>\n",
              "      <th>1</th>\n",
              "      <td>0.571356</td>\n",
              "      <td>0.062761</td>\n",
              "      <td>0.262370</td>\n",
              "      <td>1</td>\n",
              "      <td>1</td>\n",
              "    </tr>\n",
              "    <tr>\n",
              "      <th>2</th>\n",
              "      <td>0.856253</td>\n",
              "      <td>0.168753</td>\n",
              "      <td>0.319087</td>\n",
              "      <td>1</td>\n",
              "      <td>1</td>\n",
              "    </tr>\n",
              "    <tr>\n",
              "      <th>3</th>\n",
              "      <td>0.984609</td>\n",
              "      <td>0.042894</td>\n",
              "      <td>0.010569</td>\n",
              "      <td>1</td>\n",
              "      <td>1</td>\n",
              "    </tr>\n",
              "    <tr>\n",
              "      <th>4</th>\n",
              "      <td>0.818296</td>\n",
              "      <td>0.362017</td>\n",
              "      <td>0.479065</td>\n",
              "      <td>1</td>\n",
              "      <td>2</td>\n",
              "    </tr>\n",
              "    <tr>\n",
              "      <th>...</th>\n",
              "      <td>...</td>\n",
              "      <td>...</td>\n",
              "      <td>...</td>\n",
              "      <td>...</td>\n",
              "      <td>...</td>\n",
              "    </tr>\n",
              "    <tr>\n",
              "      <th>173</th>\n",
              "      <td>0.576592</td>\n",
              "      <td>0.940394</td>\n",
              "      <td>0.219886</td>\n",
              "      <td>3</td>\n",
              "      <td>0</td>\n",
              "    </tr>\n",
              "    <tr>\n",
              "      <th>174</th>\n",
              "      <td>0.542683</td>\n",
              "      <td>0.808967</td>\n",
              "      <td>0.252304</td>\n",
              "      <td>3</td>\n",
              "      <td>0</td>\n",
              "    </tr>\n",
              "    <tr>\n",
              "      <th>175</th>\n",
              "      <td>0.523641</td>\n",
              "      <td>0.845061</td>\n",
              "      <td>0.083629</td>\n",
              "      <td>3</td>\n",
              "      <td>0</td>\n",
              "    </tr>\n",
              "    <tr>\n",
              "      <th>176</th>\n",
              "      <td>0.527140</td>\n",
              "      <td>0.801615</td>\n",
              "      <td>0.172027</td>\n",
              "      <td>3</td>\n",
              "      <td>0</td>\n",
              "    </tr>\n",
              "    <tr>\n",
              "      <th>177</th>\n",
              "      <td>0.682248</td>\n",
              "      <td>0.960546</td>\n",
              "      <td>0.251489</td>\n",
              "      <td>3</td>\n",
              "      <td>0</td>\n",
              "    </tr>\n",
              "  </tbody>\n",
              "</table>\n",
              "<p>178 rows × 5 columns</p>\n",
              "</div>"
            ],
            "text/plain": [
              "          PC1       PC2       PC3  Type  H_Cluster_ID\n",
              "0    0.892173  0.057324  0.226885     1             1\n",
              "1    0.571356  0.062761  0.262370     1             1\n",
              "2    0.856253  0.168753  0.319087     1             1\n",
              "3    0.984609  0.042894  0.010569     1             1\n",
              "4    0.818296  0.362017  0.479065     1             2\n",
              "..        ...       ...       ...   ...           ...\n",
              "173  0.576592  0.940394  0.219886     3             0\n",
              "174  0.542683  0.808967  0.252304     3             0\n",
              "175  0.523641  0.845061  0.083629     3             0\n",
              "176  0.527140  0.801615  0.172027     3             0\n",
              "177  0.682248  0.960546  0.251489     3             0\n",
              "\n",
              "[178 rows x 5 columns]"
            ]
          },
          "execution_count": 62,
          "metadata": {},
          "output_type": "execute_result"
        }
      ],
      "source": [
        "scaled_df"
      ]
    },
    {
      "cell_type": "code",
      "execution_count": 63,
      "metadata": {
        "colab": {
          "base_uri": "https://localhost:8080/",
          "height": 424
        },
        "id": "zsqxU5rsloq5",
        "outputId": "d5758950-15d2-43f6-a068-ac621a5e7f79"
      },
      "outputs": [
        {
          "data": {
            "text/html": [
              "<div>\n",
              "<style scoped>\n",
              "    .dataframe tbody tr th:only-of-type {\n",
              "        vertical-align: middle;\n",
              "    }\n",
              "\n",
              "    .dataframe tbody tr th {\n",
              "        vertical-align: top;\n",
              "    }\n",
              "\n",
              "    .dataframe thead th {\n",
              "        text-align: right;\n",
              "    }\n",
              "</style>\n",
              "<table border=\"1\" class=\"dataframe\">\n",
              "  <thead>\n",
              "    <tr style=\"text-align: right;\">\n",
              "      <th></th>\n",
              "      <th>H_Cluster_ID</th>\n",
              "    </tr>\n",
              "  </thead>\n",
              "  <tbody>\n",
              "    <tr>\n",
              "      <th>88</th>\n",
              "      <td>0</td>\n",
              "    </tr>\n",
              "    <tr>\n",
              "      <th>113</th>\n",
              "      <td>0</td>\n",
              "    </tr>\n",
              "    <tr>\n",
              "      <th>114</th>\n",
              "      <td>0</td>\n",
              "    </tr>\n",
              "    <tr>\n",
              "      <th>116</th>\n",
              "      <td>0</td>\n",
              "    </tr>\n",
              "    <tr>\n",
              "      <th>117</th>\n",
              "      <td>0</td>\n",
              "    </tr>\n",
              "    <tr>\n",
              "      <th>...</th>\n",
              "      <td>...</td>\n",
              "    </tr>\n",
              "    <tr>\n",
              "      <th>121</th>\n",
              "      <td>2</td>\n",
              "    </tr>\n",
              "    <tr>\n",
              "      <th>79</th>\n",
              "      <td>2</td>\n",
              "    </tr>\n",
              "    <tr>\n",
              "      <th>87</th>\n",
              "      <td>2</td>\n",
              "    </tr>\n",
              "    <tr>\n",
              "      <th>115</th>\n",
              "      <td>2</td>\n",
              "    </tr>\n",
              "    <tr>\n",
              "      <th>122</th>\n",
              "      <td>2</td>\n",
              "    </tr>\n",
              "  </tbody>\n",
              "</table>\n",
              "<p>178 rows × 1 columns</p>\n",
              "</div>"
            ],
            "text/plain": [
              "     H_Cluster_ID\n",
              "88              0\n",
              "113             0\n",
              "114             0\n",
              "116             0\n",
              "117             0\n",
              "..            ...\n",
              "121             2\n",
              "79              2\n",
              "87              2\n",
              "115             2\n",
              "122             2\n",
              "\n",
              "[178 rows x 1 columns]"
            ]
          },
          "execution_count": 63,
          "metadata": {},
          "output_type": "execute_result"
        }
      ],
      "source": [
        "scaled_df1=scaled_df.sort_values('H_Cluster_ID')\n",
        "scaled_df1.iloc[:,[-1]]"
      ]
    },
    {
      "cell_type": "code",
      "execution_count": 64,
      "metadata": {
        "colab": {
          "base_uri": "https://localhost:8080/",
          "height": 424
        },
        "id": "7mF4Bc1nl8FE",
        "outputId": "0a1c9275-d2f7-4e77-944f-9c99c314b53d"
      },
      "outputs": [
        {
          "data": {
            "text/html": [
              "<div>\n",
              "<style scoped>\n",
              "    .dataframe tbody tr th:only-of-type {\n",
              "        vertical-align: middle;\n",
              "    }\n",
              "\n",
              "    .dataframe tbody tr th {\n",
              "        vertical-align: top;\n",
              "    }\n",
              "\n",
              "    .dataframe thead th {\n",
              "        text-align: right;\n",
              "    }\n",
              "</style>\n",
              "<table border=\"1\" class=\"dataframe\">\n",
              "  <thead>\n",
              "    <tr style=\"text-align: right;\">\n",
              "      <th></th>\n",
              "      <th>PC1</th>\n",
              "      <th>PC2</th>\n",
              "      <th>PC3</th>\n",
              "      <th>Type</th>\n",
              "      <th>H_Cluster_ID</th>\n",
              "    </tr>\n",
              "  </thead>\n",
              "  <tbody>\n",
              "    <tr>\n",
              "      <th>88</th>\n",
              "      <td>0.476524</td>\n",
              "      <td>0.469250</td>\n",
              "      <td>0.715087</td>\n",
              "      <td>2</td>\n",
              "      <td>0</td>\n",
              "    </tr>\n",
              "    <tr>\n",
              "      <th>113</th>\n",
              "      <td>0.420534</td>\n",
              "      <td>0.367329</td>\n",
              "      <td>0.740384</td>\n",
              "      <td>2</td>\n",
              "      <td>0</td>\n",
              "    </tr>\n",
              "    <tr>\n",
              "      <th>114</th>\n",
              "      <td>0.524786</td>\n",
              "      <td>0.358676</td>\n",
              "      <td>0.756312</td>\n",
              "      <td>2</td>\n",
              "      <td>0</td>\n",
              "    </tr>\n",
              "    <tr>\n",
              "      <th>116</th>\n",
              "      <td>0.364391</td>\n",
              "      <td>0.253625</td>\n",
              "      <td>0.703920</td>\n",
              "      <td>2</td>\n",
              "      <td>0</td>\n",
              "    </tr>\n",
              "    <tr>\n",
              "      <th>117</th>\n",
              "      <td>0.486702</td>\n",
              "      <td>0.328606</td>\n",
              "      <td>0.696753</td>\n",
              "      <td>2</td>\n",
              "      <td>0</td>\n",
              "    </tr>\n",
              "    <tr>\n",
              "      <th>...</th>\n",
              "      <td>...</td>\n",
              "      <td>...</td>\n",
              "      <td>...</td>\n",
              "      <td>...</td>\n",
              "      <td>...</td>\n",
              "    </tr>\n",
              "    <tr>\n",
              "      <th>121</th>\n",
              "      <td>1.000000</td>\n",
              "      <td>0.311538</td>\n",
              "      <td>0.835952</td>\n",
              "      <td>2</td>\n",
              "      <td>2</td>\n",
              "    </tr>\n",
              "    <tr>\n",
              "      <th>79</th>\n",
              "      <td>0.757558</td>\n",
              "      <td>0.393753</td>\n",
              "      <td>0.717518</td>\n",
              "      <td>2</td>\n",
              "      <td>2</td>\n",
              "    </tr>\n",
              "    <tr>\n",
              "      <th>87</th>\n",
              "      <td>0.575563</td>\n",
              "      <td>0.389769</td>\n",
              "      <td>0.867231</td>\n",
              "      <td>2</td>\n",
              "      <td>2</td>\n",
              "    </tr>\n",
              "    <tr>\n",
              "      <th>115</th>\n",
              "      <td>0.561019</td>\n",
              "      <td>0.290308</td>\n",
              "      <td>1.000000</td>\n",
              "      <td>2</td>\n",
              "      <td>2</td>\n",
              "    </tr>\n",
              "    <tr>\n",
              "      <th>122</th>\n",
              "      <td>0.706538</td>\n",
              "      <td>0.568207</td>\n",
              "      <td>0.780415</td>\n",
              "      <td>2</td>\n",
              "      <td>2</td>\n",
              "    </tr>\n",
              "  </tbody>\n",
              "</table>\n",
              "<p>178 rows × 5 columns</p>\n",
              "</div>"
            ],
            "text/plain": [
              "          PC1       PC2       PC3  Type  H_Cluster_ID\n",
              "88   0.476524  0.469250  0.715087     2             0\n",
              "113  0.420534  0.367329  0.740384     2             0\n",
              "114  0.524786  0.358676  0.756312     2             0\n",
              "116  0.364391  0.253625  0.703920     2             0\n",
              "117  0.486702  0.328606  0.696753     2             0\n",
              "..        ...       ...       ...   ...           ...\n",
              "121  1.000000  0.311538  0.835952     2             2\n",
              "79   0.757558  0.393753  0.717518     2             2\n",
              "87   0.575563  0.389769  0.867231     2             2\n",
              "115  0.561019  0.290308  1.000000     2             2\n",
              "122  0.706538  0.568207  0.780415     2             2\n",
              "\n",
              "[178 rows x 5 columns]"
            ]
          },
          "execution_count": 64,
          "metadata": {},
          "output_type": "execute_result"
        }
      ],
      "source": [
        "scaled_df1"
      ]
    },
    {
      "cell_type": "code",
      "execution_count": 65,
      "metadata": {
        "id": "webubqeEl-V0"
      },
      "outputs": [],
      "source": [
        "scaled_df1=scaled_df1.set_index('Type')"
      ]
    },
    {
      "cell_type": "code",
      "execution_count": 66,
      "metadata": {
        "colab": {
          "base_uri": "https://localhost:8080/",
          "height": 455
        },
        "id": "OPB6rF_xmFw_",
        "outputId": "318c88af-9da0-43fd-b052-a3f480e4b81b"
      },
      "outputs": [
        {
          "data": {
            "text/html": [
              "<div>\n",
              "<style scoped>\n",
              "    .dataframe tbody tr th:only-of-type {\n",
              "        vertical-align: middle;\n",
              "    }\n",
              "\n",
              "    .dataframe tbody tr th {\n",
              "        vertical-align: top;\n",
              "    }\n",
              "\n",
              "    .dataframe thead th {\n",
              "        text-align: right;\n",
              "    }\n",
              "</style>\n",
              "<table border=\"1\" class=\"dataframe\">\n",
              "  <thead>\n",
              "    <tr style=\"text-align: right;\">\n",
              "      <th></th>\n",
              "      <th>PC1</th>\n",
              "      <th>PC2</th>\n",
              "      <th>PC3</th>\n",
              "      <th>H_Cluster_ID</th>\n",
              "    </tr>\n",
              "    <tr>\n",
              "      <th>Type</th>\n",
              "      <th></th>\n",
              "      <th></th>\n",
              "      <th></th>\n",
              "      <th></th>\n",
              "    </tr>\n",
              "  </thead>\n",
              "  <tbody>\n",
              "    <tr>\n",
              "      <th>2</th>\n",
              "      <td>0.476524</td>\n",
              "      <td>0.469250</td>\n",
              "      <td>0.715087</td>\n",
              "      <td>0</td>\n",
              "    </tr>\n",
              "    <tr>\n",
              "      <th>2</th>\n",
              "      <td>0.420534</td>\n",
              "      <td>0.367329</td>\n",
              "      <td>0.740384</td>\n",
              "      <td>0</td>\n",
              "    </tr>\n",
              "    <tr>\n",
              "      <th>2</th>\n",
              "      <td>0.524786</td>\n",
              "      <td>0.358676</td>\n",
              "      <td>0.756312</td>\n",
              "      <td>0</td>\n",
              "    </tr>\n",
              "    <tr>\n",
              "      <th>2</th>\n",
              "      <td>0.364391</td>\n",
              "      <td>0.253625</td>\n",
              "      <td>0.703920</td>\n",
              "      <td>0</td>\n",
              "    </tr>\n",
              "    <tr>\n",
              "      <th>2</th>\n",
              "      <td>0.486702</td>\n",
              "      <td>0.328606</td>\n",
              "      <td>0.696753</td>\n",
              "      <td>0</td>\n",
              "    </tr>\n",
              "    <tr>\n",
              "      <th>...</th>\n",
              "      <td>...</td>\n",
              "      <td>...</td>\n",
              "      <td>...</td>\n",
              "      <td>...</td>\n",
              "    </tr>\n",
              "    <tr>\n",
              "      <th>2</th>\n",
              "      <td>1.000000</td>\n",
              "      <td>0.311538</td>\n",
              "      <td>0.835952</td>\n",
              "      <td>2</td>\n",
              "    </tr>\n",
              "    <tr>\n",
              "      <th>2</th>\n",
              "      <td>0.757558</td>\n",
              "      <td>0.393753</td>\n",
              "      <td>0.717518</td>\n",
              "      <td>2</td>\n",
              "    </tr>\n",
              "    <tr>\n",
              "      <th>2</th>\n",
              "      <td>0.575563</td>\n",
              "      <td>0.389769</td>\n",
              "      <td>0.867231</td>\n",
              "      <td>2</td>\n",
              "    </tr>\n",
              "    <tr>\n",
              "      <th>2</th>\n",
              "      <td>0.561019</td>\n",
              "      <td>0.290308</td>\n",
              "      <td>1.000000</td>\n",
              "      <td>2</td>\n",
              "    </tr>\n",
              "    <tr>\n",
              "      <th>2</th>\n",
              "      <td>0.706538</td>\n",
              "      <td>0.568207</td>\n",
              "      <td>0.780415</td>\n",
              "      <td>2</td>\n",
              "    </tr>\n",
              "  </tbody>\n",
              "</table>\n",
              "<p>178 rows × 4 columns</p>\n",
              "</div>"
            ],
            "text/plain": [
              "           PC1       PC2       PC3  H_Cluster_ID\n",
              "Type                                            \n",
              "2     0.476524  0.469250  0.715087             0\n",
              "2     0.420534  0.367329  0.740384             0\n",
              "2     0.524786  0.358676  0.756312             0\n",
              "2     0.364391  0.253625  0.703920             0\n",
              "2     0.486702  0.328606  0.696753             0\n",
              "...        ...       ...       ...           ...\n",
              "2     1.000000  0.311538  0.835952             2\n",
              "2     0.757558  0.393753  0.717518             2\n",
              "2     0.575563  0.389769  0.867231             2\n",
              "2     0.561019  0.290308  1.000000             2\n",
              "2     0.706538  0.568207  0.780415             2\n",
              "\n",
              "[178 rows x 4 columns]"
            ]
          },
          "execution_count": 66,
          "metadata": {},
          "output_type": "execute_result"
        }
      ],
      "source": [
        "scaled_df1"
      ]
    },
    {
      "cell_type": "markdown",
      "metadata": {
        "id": "rJFYd0JYmY2J"
      },
      "source": [
        "## ***K-Means Clustering***"
      ]
    },
    {
      "cell_type": "code",
      "execution_count": 67,
      "metadata": {
        "id": "0C_e3OqFmcuy"
      },
      "outputs": [],
      "source": [
        "# Importing libraries for K-Means Clustering\n",
        "\n",
        "from sklearn.cluster import KMeans"
      ]
    },
    {
      "cell_type": "code",
      "execution_count": 68,
      "metadata": {
        "id": "L3eEKIygmnZ1"
      },
      "outputs": [],
      "source": [
        "data=scaled_df.drop(['H_Cluster_ID'],axis=1)"
      ]
    },
    {
      "cell_type": "code",
      "execution_count": 69,
      "metadata": {
        "colab": {
          "base_uri": "https://localhost:8080/",
          "height": 424
        },
        "id": "7Dzj4n1vm2Ri",
        "outputId": "f5ab62ee-0097-4c94-8c24-1fe48a59a5af"
      },
      "outputs": [
        {
          "data": {
            "text/html": [
              "<div>\n",
              "<style scoped>\n",
              "    .dataframe tbody tr th:only-of-type {\n",
              "        vertical-align: middle;\n",
              "    }\n",
              "\n",
              "    .dataframe tbody tr th {\n",
              "        vertical-align: top;\n",
              "    }\n",
              "\n",
              "    .dataframe thead th {\n",
              "        text-align: right;\n",
              "    }\n",
              "</style>\n",
              "<table border=\"1\" class=\"dataframe\">\n",
              "  <thead>\n",
              "    <tr style=\"text-align: right;\">\n",
              "      <th></th>\n",
              "      <th>PC1</th>\n",
              "      <th>PC2</th>\n",
              "      <th>PC3</th>\n",
              "      <th>Type</th>\n",
              "    </tr>\n",
              "  </thead>\n",
              "  <tbody>\n",
              "    <tr>\n",
              "      <th>0</th>\n",
              "      <td>0.892173</td>\n",
              "      <td>0.057324</td>\n",
              "      <td>0.226885</td>\n",
              "      <td>1</td>\n",
              "    </tr>\n",
              "    <tr>\n",
              "      <th>1</th>\n",
              "      <td>0.571356</td>\n",
              "      <td>0.062761</td>\n",
              "      <td>0.262370</td>\n",
              "      <td>1</td>\n",
              "    </tr>\n",
              "    <tr>\n",
              "      <th>2</th>\n",
              "      <td>0.856253</td>\n",
              "      <td>0.168753</td>\n",
              "      <td>0.319087</td>\n",
              "      <td>1</td>\n",
              "    </tr>\n",
              "    <tr>\n",
              "      <th>3</th>\n",
              "      <td>0.984609</td>\n",
              "      <td>0.042894</td>\n",
              "      <td>0.010569</td>\n",
              "      <td>1</td>\n",
              "    </tr>\n",
              "    <tr>\n",
              "      <th>4</th>\n",
              "      <td>0.818296</td>\n",
              "      <td>0.362017</td>\n",
              "      <td>0.479065</td>\n",
              "      <td>1</td>\n",
              "    </tr>\n",
              "    <tr>\n",
              "      <th>...</th>\n",
              "      <td>...</td>\n",
              "      <td>...</td>\n",
              "      <td>...</td>\n",
              "      <td>...</td>\n",
              "    </tr>\n",
              "    <tr>\n",
              "      <th>173</th>\n",
              "      <td>0.576592</td>\n",
              "      <td>0.940394</td>\n",
              "      <td>0.219886</td>\n",
              "      <td>3</td>\n",
              "    </tr>\n",
              "    <tr>\n",
              "      <th>174</th>\n",
              "      <td>0.542683</td>\n",
              "      <td>0.808967</td>\n",
              "      <td>0.252304</td>\n",
              "      <td>3</td>\n",
              "    </tr>\n",
              "    <tr>\n",
              "      <th>175</th>\n",
              "      <td>0.523641</td>\n",
              "      <td>0.845061</td>\n",
              "      <td>0.083629</td>\n",
              "      <td>3</td>\n",
              "    </tr>\n",
              "    <tr>\n",
              "      <th>176</th>\n",
              "      <td>0.527140</td>\n",
              "      <td>0.801615</td>\n",
              "      <td>0.172027</td>\n",
              "      <td>3</td>\n",
              "    </tr>\n",
              "    <tr>\n",
              "      <th>177</th>\n",
              "      <td>0.682248</td>\n",
              "      <td>0.960546</td>\n",
              "      <td>0.251489</td>\n",
              "      <td>3</td>\n",
              "    </tr>\n",
              "  </tbody>\n",
              "</table>\n",
              "<p>178 rows × 4 columns</p>\n",
              "</div>"
            ],
            "text/plain": [
              "          PC1       PC2       PC3  Type\n",
              "0    0.892173  0.057324  0.226885     1\n",
              "1    0.571356  0.062761  0.262370     1\n",
              "2    0.856253  0.168753  0.319087     1\n",
              "3    0.984609  0.042894  0.010569     1\n",
              "4    0.818296  0.362017  0.479065     1\n",
              "..        ...       ...       ...   ...\n",
              "173  0.576592  0.940394  0.219886     3\n",
              "174  0.542683  0.808967  0.252304     3\n",
              "175  0.523641  0.845061  0.083629     3\n",
              "176  0.527140  0.801615  0.172027     3\n",
              "177  0.682248  0.960546  0.251489     3\n",
              "\n",
              "[178 rows x 4 columns]"
            ]
          },
          "execution_count": 69,
          "metadata": {},
          "output_type": "execute_result"
        }
      ],
      "source": [
        "data"
      ]
    },
    {
      "cell_type": "code",
      "execution_count": 70,
      "metadata": {
        "colab": {
          "base_uri": "https://localhost:8080/",
          "height": 300
        },
        "id": "_sYCYUbXVS30",
        "outputId": "f1f4f1d9-063b-4172-bcd0-bcd7d1e1720f"
      },
      "outputs": [
        {
          "data": {
            "text/html": [
              "<div>\n",
              "<style scoped>\n",
              "    .dataframe tbody tr th:only-of-type {\n",
              "        vertical-align: middle;\n",
              "    }\n",
              "\n",
              "    .dataframe tbody tr th {\n",
              "        vertical-align: top;\n",
              "    }\n",
              "\n",
              "    .dataframe thead th {\n",
              "        text-align: right;\n",
              "    }\n",
              "</style>\n",
              "<table border=\"1\" class=\"dataframe\">\n",
              "  <thead>\n",
              "    <tr style=\"text-align: right;\">\n",
              "      <th></th>\n",
              "      <th>PC1</th>\n",
              "      <th>PC2</th>\n",
              "      <th>PC3</th>\n",
              "      <th>Type</th>\n",
              "    </tr>\n",
              "  </thead>\n",
              "  <tbody>\n",
              "    <tr>\n",
              "      <th>count</th>\n",
              "      <td>178.000000</td>\n",
              "      <td>178.000000</td>\n",
              "      <td>178.000000</td>\n",
              "      <td>178.000000</td>\n",
              "    </tr>\n",
              "    <tr>\n",
              "      <th>mean</th>\n",
              "      <td>0.583504</td>\n",
              "      <td>0.400475</td>\n",
              "      <td>0.409490</td>\n",
              "      <td>1.938202</td>\n",
              "    </tr>\n",
              "    <tr>\n",
              "      <th>std</th>\n",
              "      <td>0.192676</td>\n",
              "      <td>0.277993</td>\n",
              "      <td>0.213930</td>\n",
              "      <td>0.775035</td>\n",
              "    </tr>\n",
              "    <tr>\n",
              "      <th>min</th>\n",
              "      <td>0.000000</td>\n",
              "      <td>0.000000</td>\n",
              "      <td>0.000000</td>\n",
              "      <td>1.000000</td>\n",
              "    </tr>\n",
              "    <tr>\n",
              "      <th>25%</th>\n",
              "      <td>0.435811</td>\n",
              "      <td>0.165674</td>\n",
              "      <td>0.227119</td>\n",
              "      <td>1.000000</td>\n",
              "    </tr>\n",
              "    <tr>\n",
              "      <th>50%</th>\n",
              "      <td>0.555355</td>\n",
              "      <td>0.315948</td>\n",
              "      <td>0.380287</td>\n",
              "      <td>2.000000</td>\n",
              "    </tr>\n",
              "    <tr>\n",
              "      <th>75%</th>\n",
              "      <td>0.729836</td>\n",
              "      <td>0.650215</td>\n",
              "      <td>0.591819</td>\n",
              "      <td>3.000000</td>\n",
              "    </tr>\n",
              "    <tr>\n",
              "      <th>max</th>\n",
              "      <td>1.000000</td>\n",
              "      <td>1.000000</td>\n",
              "      <td>1.000000</td>\n",
              "      <td>3.000000</td>\n",
              "    </tr>\n",
              "  </tbody>\n",
              "</table>\n",
              "</div>"
            ],
            "text/plain": [
              "              PC1         PC2         PC3        Type\n",
              "count  178.000000  178.000000  178.000000  178.000000\n",
              "mean     0.583504    0.400475    0.409490    1.938202\n",
              "std      0.192676    0.277993    0.213930    0.775035\n",
              "min      0.000000    0.000000    0.000000    1.000000\n",
              "25%      0.435811    0.165674    0.227119    1.000000\n",
              "50%      0.555355    0.315948    0.380287    2.000000\n",
              "75%      0.729836    0.650215    0.591819    3.000000\n",
              "max      1.000000    1.000000    1.000000    3.000000"
            ]
          },
          "execution_count": 70,
          "metadata": {},
          "output_type": "execute_result"
        }
      ],
      "source": [
        "data.describe()"
      ]
    },
    {
      "cell_type": "code",
      "execution_count": 71,
      "metadata": {
        "id": "IZQ2Q0Sgm2zX"
      },
      "outputs": [],
      "source": [
        "X=data.iloc[:,:3]"
      ]
    },
    {
      "cell_type": "code",
      "execution_count": 72,
      "metadata": {
        "colab": {
          "base_uri": "https://localhost:8080/",
          "height": 515
        },
        "id": "wv0UG7_ZnCwe",
        "outputId": "0d7f793b-3741-462d-c79e-16440c76be55"
      },
      "outputs": [
        {
          "name": "stderr",
          "output_type": "stream",
          "text": [
            "c:\\Users\\Prayag V K\\anaconda3\\lib\\site-packages\\sklearn\\cluster\\_kmeans.py:1036: UserWarning: KMeans is known to have a memory leak on Windows with MKL, when there are less chunks than available threads. You can avoid it by setting the environment variable OMP_NUM_THREADS=1.\n",
            "  warnings.warn(\n"
          ]
        },
        {
          "data": {
            "image/png": "[encoded data removed]",
            "text/plain": [
              "<Figure size 800x800 with 1 Axes>"
            ]
          },
          "metadata": {},
          "output_type": "display_data"
        }
      ],
      "source": [
        "# Plotting Elbow Curve\n",
        "\n",
        "wcss=[]\n",
        "\n",
        "for i in range(1,11):\n",
        "  kmeans=KMeans(n_clusters=i,init='k-means++',random_state=42)\n",
        "  kmeans.fit(X)\n",
        "  wcss.append(kmeans.inertia_)\n",
        "\n",
        "plt.figure(figsize=(8,8))\n",
        "plt.plot(range(1,11),wcss,marker='o')\n",
        "plt.xticks(range(1,11))\n",
        "plt.xlabel('Number of Clusters')\n",
        "plt.ylabel('WCSS')\n",
        "plt.title('Elbow Graph',family='monospace',fontsize=16)\n",
        "plt.show()"
      ]
    },
    {
      "cell_type": "code",
      "execution_count": 73,
      "metadata": {
        "id": "kmcxQ6TjnDDc"
      },
      "outputs": [],
      "source": [
        "# Importing libraries for Silhouette Analysis to get optimum number of clusters.\n",
        "\n",
        "from sklearn.metrics import silhouette_score,silhouette_samples"
      ]
    },
    {
      "cell_type": "code",
      "execution_count": 74,
      "metadata": {
        "colab": {
          "base_uri": "https://localhost:8080/",
          "height": 297
        },
        "id": "CO-uxECmnsjI",
        "outputId": "d55e8547-5e69-4e63-f7e5-811be02920ae"
      },
      "outputs": [
        {
          "data": {
            "image/png": "[encoded data removed]",
            "text/plain": [
              "<Figure size 640x480 with 2 Axes>"
            ]
          },
          "metadata": {},
          "output_type": "display_data"
        }
      ],
      "source": [
        "range_of_clusters=[3,4,5]\n",
        "results=[]\n",
        "\n",
        "for n_clusters in range_of_clusters:\n",
        "  clustered=KMeans(n_clusters=n_clusters,init='k-means++',random_state=42)\n",
        "  clustered_labels=clustered.fit_predict(X)\n",
        "  silhouette_avg=silhouette_score(X,clustered_labels)\n",
        "  results.append([n_clusters,silhouette_avg])\n",
        "\n",
        "results=pd.DataFrame(results,columns=[\"Number of Clusters\",\"Silhouette Score\"])\n",
        "pivot_km=pd.pivot_table(results,index=\"Number of Clusters\",values=\"Silhouette Score\")\n",
        "\n",
        "plt.figure()\n",
        "sns.heatmap(pivot_km,annot=True,linewidth=0.5,fmt='0.3f',cmap=sns.cm.rocket_r)\n",
        "plt.tight_layout()"
      ]
    },
    {
      "cell_type": "markdown",
      "metadata": {
        "id": "PQNmdiAQn7Jz"
      },
      "source": [
        "## **Conclusions**\n",
        "**From Silhouette Analysis we can see that the number of optimum clusters are three which is same number of clusters with Principal Component Analysis.**\n"
      ]
    }
  ],
  "metadata": {
    "colab": {
      "provenance": []
    },
    "kernelspec": {
      "display_name": "base",
      "language": "python",
      "name": "python3"
    },
    "language_info": {
      "codemirror_mode": {
        "name": "ipython",
        "version": 3
      },
      "file_extension": ".py",
      "mimetype": "text/x-python",
      "name": "python",
      "nbconvert_exporter": "python",
      "pygments_lexer": "ipython3",
      "version": "3.9.12"
    },
    "vscode": {
      "interpreter": {
        "hash": "019df8a6d4af48d6ee1050ebb21d76ef69bfe408b4e81b1d4502984bb05d0512"
      }
    }
  },
  "nbformat": 4,
  "nbformat_minor": 0
}
